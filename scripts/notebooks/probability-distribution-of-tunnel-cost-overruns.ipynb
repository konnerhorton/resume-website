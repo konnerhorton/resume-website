{
 "cells": [
  {
   "cell_type": "code",
   "execution_count": 339,
   "metadata": {},
   "outputs": [
    {
     "data": {
      "application/vnd.plotly.v1+json": {
       "config": {
        "plotlyServerURL": "https://plot.ly"
       },
       "data": [
        {
         "hovertemplate": "OverrunPercent=%{x}<br>CDF=%{y}<extra></extra>",
         "legendgroup": "",
         "marker": {
          "color": "#1F77B4",
          "symbol": "circle"
         },
         "mode": "markers",
         "name": "",
         "orientation": "v",
         "showlegend": false,
         "type": "scatter",
         "x": [
          -0.1136701822999999,
          -0.09497424577,
          -0.07689477557,
          -0.05927345959,
          -0.04128852915,
          -0.02449513531,
          -0.00610743194,
          0.01302428256,
          0.03215599706,
          0.05128771155,
          0.07087494306,
          0.0910087949799999,
          0.1110515434999999,
          0.1316409124,
          0.1526857984,
          0.1737306843,
          0.1947755703,
          0.2158204561999999,
          0.2368653422,
          0.2579102281,
          0.2780941869,
          0.3,
          0.3210448859,
          0.3420897719,
          0.3631346578,
          0.3841795437999999,
          0.4052244297,
          0.4262693157,
          0.4473142016,
          0.4682679842,
          0.4887662497,
          0.5096118469,
          0.532259014,
          0.5518027962000001,
          0.5735835173,
          0.5936718175,
          0.6159676233,
          0.637037037,
          0.6576158940000001,
          0.6788079469999999,
          0.699852833,
          0.7208977189,
          0.7419426049000001,
          0.7629874908,
          0.7840323766999999,
          0.8050772627,
          0.8261221486,
          0.8471670346000001,
          0.8682119205,
          0.8892568065,
          0.9103016924,
          0.9313465784,
          0.9523914643,
          0.9734363503,
          0.9944812362,
          1.015526122,
          1.036571008,
          1.057615894,
          1.07866078,
          1.099705666,
          1.1207505519999998,
          1.141795438,
          1.162840324,
          1.18388521,
          1.204930096,
          1.225974982,
          1.247019868,
          1.268064753,
          1.289109639,
          1.3101545250000002,
          1.331199411,
          1.352244297,
          1.373289183,
          1.392420898
         ],
         "xaxis": "x",
         "y": [
          0.08649654439,
          0.1107272726999999,
          0.1404040404,
          0.1675396625999999,
          0.1942009569,
          0.2215417331,
          0.2472210526,
          0.275062201,
          0.3020574163,
          0.3293636364,
          0.3565276827999999,
          0.3811118706,
          0.4092977899,
          0.4346585472,
          0.4601609395,
          0.485154415,
          0.5092431492,
          0.5324045237,
          0.5549891257,
          0.5752892562,
          0.597138756,
          0.6169073509999999,
          0.6358503697,
          0.6542844715,
          0.6715311005,
          0.6884384515,
          0.7041017834000001,
          0.7194823836,
          0.7337886037,
          0.7476828435,
          0.7617777778,
          0.775173445,
          0.7876146730000001,
          0.8009186603,
          0.8139486733,
          0.8203691046,
          0.8311004785,
          0.8413397129000001,
          0.848708134,
          0.8588690735,
          0.8664462810000001,
          0.8737973031999999,
          0.8802435842,
          0.8866898652,
          0.8926837756,
          0.8981122227,
          0.9035406699,
          0.9084036538,
          0.9129273597,
          0.917337973,
          0.9210700304,
          0.9249151805,
          0.92830796,
          0.9309090909,
          0.934414963,
          0.9367899087,
          0.9392779469,
          0.9417659852,
          0.943123097,
          0.9452718573,
          0.9464027838,
          0.9479860809,
          0.9494562853,
          0.949569378,
          0.9508133971,
          0.9520574163,
          0.9520574163,
          0.9520574163,
          0.9520574163,
          0.9520574163,
          0.9520574163,
          0.9520574163,
          0.9520574163,
          0.9517809676
         ],
         "yaxis": "y"
        }
       ],
       "layout": {
        "height": 500,
        "legend": {
         "tracegroupgap": 0
        },
        "margin": {
         "b": 20,
         "l": 20,
         "r": 20,
         "t": 60
        },
        "template": {
         "data": {
          "bar": [
           {
            "error_x": {
             "color": "rgb(36,36,36)"
            },
            "error_y": {
             "color": "rgb(36,36,36)"
            },
            "marker": {
             "line": {
              "color": "white",
              "width": 0.5
             },
             "pattern": {
              "fillmode": "overlay",
              "size": 10,
              "solidity": 0.2
             }
            },
            "type": "bar"
           }
          ],
          "barpolar": [
           {
            "marker": {
             "line": {
              "color": "white",
              "width": 0.5
             },
             "pattern": {
              "fillmode": "overlay",
              "size": 10,
              "solidity": 0.2
             }
            },
            "type": "barpolar"
           }
          ],
          "carpet": [
           {
            "aaxis": {
             "endlinecolor": "rgb(36,36,36)",
             "gridcolor": "white",
             "linecolor": "white",
             "minorgridcolor": "white",
             "startlinecolor": "rgb(36,36,36)"
            },
            "baxis": {
             "endlinecolor": "rgb(36,36,36)",
             "gridcolor": "white",
             "linecolor": "white",
             "minorgridcolor": "white",
             "startlinecolor": "rgb(36,36,36)"
            },
            "type": "carpet"
           }
          ],
          "choropleth": [
           {
            "colorbar": {
             "outlinewidth": 1,
             "tickcolor": "rgb(36,36,36)",
             "ticks": "outside"
            },
            "type": "choropleth"
           }
          ],
          "contour": [
           {
            "colorbar": {
             "outlinewidth": 1,
             "tickcolor": "rgb(36,36,36)",
             "ticks": "outside"
            },
            "colorscale": [
             [
              0,
              "#440154"
             ],
             [
              0.1111111111111111,
              "#482878"
             ],
             [
              0.2222222222222222,
              "#3e4989"
             ],
             [
              0.3333333333333333,
              "#31688e"
             ],
             [
              0.4444444444444444,
              "#26828e"
             ],
             [
              0.5555555555555556,
              "#1f9e89"
             ],
             [
              0.6666666666666666,
              "#35b779"
             ],
             [
              0.7777777777777778,
              "#6ece58"
             ],
             [
              0.8888888888888888,
              "#b5de2b"
             ],
             [
              1,
              "#fde725"
             ]
            ],
            "type": "contour"
           }
          ],
          "contourcarpet": [
           {
            "colorbar": {
             "outlinewidth": 1,
             "tickcolor": "rgb(36,36,36)",
             "ticks": "outside"
            },
            "type": "contourcarpet"
           }
          ],
          "heatmap": [
           {
            "colorbar": {
             "outlinewidth": 1,
             "tickcolor": "rgb(36,36,36)",
             "ticks": "outside"
            },
            "colorscale": [
             [
              0,
              "#440154"
             ],
             [
              0.1111111111111111,
              "#482878"
             ],
             [
              0.2222222222222222,
              "#3e4989"
             ],
             [
              0.3333333333333333,
              "#31688e"
             ],
             [
              0.4444444444444444,
              "#26828e"
             ],
             [
              0.5555555555555556,
              "#1f9e89"
             ],
             [
              0.6666666666666666,
              "#35b779"
             ],
             [
              0.7777777777777778,
              "#6ece58"
             ],
             [
              0.8888888888888888,
              "#b5de2b"
             ],
             [
              1,
              "#fde725"
             ]
            ],
            "type": "heatmap"
           }
          ],
          "heatmapgl": [
           {
            "colorbar": {
             "outlinewidth": 1,
             "tickcolor": "rgb(36,36,36)",
             "ticks": "outside"
            },
            "colorscale": [
             [
              0,
              "#440154"
             ],
             [
              0.1111111111111111,
              "#482878"
             ],
             [
              0.2222222222222222,
              "#3e4989"
             ],
             [
              0.3333333333333333,
              "#31688e"
             ],
             [
              0.4444444444444444,
              "#26828e"
             ],
             [
              0.5555555555555556,
              "#1f9e89"
             ],
             [
              0.6666666666666666,
              "#35b779"
             ],
             [
              0.7777777777777778,
              "#6ece58"
             ],
             [
              0.8888888888888888,
              "#b5de2b"
             ],
             [
              1,
              "#fde725"
             ]
            ],
            "type": "heatmapgl"
           }
          ],
          "histogram": [
           {
            "marker": {
             "line": {
              "color": "white",
              "width": 0.6
             }
            },
            "type": "histogram"
           }
          ],
          "histogram2d": [
           {
            "colorbar": {
             "outlinewidth": 1,
             "tickcolor": "rgb(36,36,36)",
             "ticks": "outside"
            },
            "colorscale": [
             [
              0,
              "#440154"
             ],
             [
              0.1111111111111111,
              "#482878"
             ],
             [
              0.2222222222222222,
              "#3e4989"
             ],
             [
              0.3333333333333333,
              "#31688e"
             ],
             [
              0.4444444444444444,
              "#26828e"
             ],
             [
              0.5555555555555556,
              "#1f9e89"
             ],
             [
              0.6666666666666666,
              "#35b779"
             ],
             [
              0.7777777777777778,
              "#6ece58"
             ],
             [
              0.8888888888888888,
              "#b5de2b"
             ],
             [
              1,
              "#fde725"
             ]
            ],
            "type": "histogram2d"
           }
          ],
          "histogram2dcontour": [
           {
            "colorbar": {
             "outlinewidth": 1,
             "tickcolor": "rgb(36,36,36)",
             "ticks": "outside"
            },
            "colorscale": [
             [
              0,
              "#440154"
             ],
             [
              0.1111111111111111,
              "#482878"
             ],
             [
              0.2222222222222222,
              "#3e4989"
             ],
             [
              0.3333333333333333,
              "#31688e"
             ],
             [
              0.4444444444444444,
              "#26828e"
             ],
             [
              0.5555555555555556,
              "#1f9e89"
             ],
             [
              0.6666666666666666,
              "#35b779"
             ],
             [
              0.7777777777777778,
              "#6ece58"
             ],
             [
              0.8888888888888888,
              "#b5de2b"
             ],
             [
              1,
              "#fde725"
             ]
            ],
            "type": "histogram2dcontour"
           }
          ],
          "mesh3d": [
           {
            "colorbar": {
             "outlinewidth": 1,
             "tickcolor": "rgb(36,36,36)",
             "ticks": "outside"
            },
            "type": "mesh3d"
           }
          ],
          "parcoords": [
           {
            "line": {
             "colorbar": {
              "outlinewidth": 1,
              "tickcolor": "rgb(36,36,36)",
              "ticks": "outside"
             }
            },
            "type": "parcoords"
           }
          ],
          "pie": [
           {
            "automargin": true,
            "type": "pie"
           }
          ],
          "scatter": [
           {
            "fillpattern": {
             "fillmode": "overlay",
             "size": 10,
             "solidity": 0.2
            },
            "type": "scatter"
           }
          ],
          "scatter3d": [
           {
            "line": {
             "colorbar": {
              "outlinewidth": 1,
              "tickcolor": "rgb(36,36,36)",
              "ticks": "outside"
             }
            },
            "marker": {
             "colorbar": {
              "outlinewidth": 1,
              "tickcolor": "rgb(36,36,36)",
              "ticks": "outside"
             }
            },
            "type": "scatter3d"
           }
          ],
          "scattercarpet": [
           {
            "marker": {
             "colorbar": {
              "outlinewidth": 1,
              "tickcolor": "rgb(36,36,36)",
              "ticks": "outside"
             }
            },
            "type": "scattercarpet"
           }
          ],
          "scattergeo": [
           {
            "marker": {
             "colorbar": {
              "outlinewidth": 1,
              "tickcolor": "rgb(36,36,36)",
              "ticks": "outside"
             }
            },
            "type": "scattergeo"
           }
          ],
          "scattergl": [
           {
            "marker": {
             "colorbar": {
              "outlinewidth": 1,
              "tickcolor": "rgb(36,36,36)",
              "ticks": "outside"
             }
            },
            "type": "scattergl"
           }
          ],
          "scattermapbox": [
           {
            "marker": {
             "colorbar": {
              "outlinewidth": 1,
              "tickcolor": "rgb(36,36,36)",
              "ticks": "outside"
             }
            },
            "type": "scattermapbox"
           }
          ],
          "scatterpolar": [
           {
            "marker": {
             "colorbar": {
              "outlinewidth": 1,
              "tickcolor": "rgb(36,36,36)",
              "ticks": "outside"
             }
            },
            "type": "scatterpolar"
           }
          ],
          "scatterpolargl": [
           {
            "marker": {
             "colorbar": {
              "outlinewidth": 1,
              "tickcolor": "rgb(36,36,36)",
              "ticks": "outside"
             }
            },
            "type": "scatterpolargl"
           }
          ],
          "scatterternary": [
           {
            "marker": {
             "colorbar": {
              "outlinewidth": 1,
              "tickcolor": "rgb(36,36,36)",
              "ticks": "outside"
             }
            },
            "type": "scatterternary"
           }
          ],
          "surface": [
           {
            "colorbar": {
             "outlinewidth": 1,
             "tickcolor": "rgb(36,36,36)",
             "ticks": "outside"
            },
            "colorscale": [
             [
              0,
              "#440154"
             ],
             [
              0.1111111111111111,
              "#482878"
             ],
             [
              0.2222222222222222,
              "#3e4989"
             ],
             [
              0.3333333333333333,
              "#31688e"
             ],
             [
              0.4444444444444444,
              "#26828e"
             ],
             [
              0.5555555555555556,
              "#1f9e89"
             ],
             [
              0.6666666666666666,
              "#35b779"
             ],
             [
              0.7777777777777778,
              "#6ece58"
             ],
             [
              0.8888888888888888,
              "#b5de2b"
             ],
             [
              1,
              "#fde725"
             ]
            ],
            "type": "surface"
           }
          ],
          "table": [
           {
            "cells": {
             "fill": {
              "color": "rgb(237,237,237)"
             },
             "line": {
              "color": "white"
             }
            },
            "header": {
             "fill": {
              "color": "rgb(217,217,217)"
             },
             "line": {
              "color": "white"
             }
            },
            "type": "table"
           }
          ]
         },
         "layout": {
          "annotationdefaults": {
           "arrowhead": 0,
           "arrowwidth": 1
          },
          "autotypenumbers": "strict",
          "coloraxis": {
           "colorbar": {
            "outlinewidth": 1,
            "tickcolor": "rgb(36,36,36)",
            "ticks": "outside"
           }
          },
          "colorscale": {
           "diverging": [
            [
             0,
             "rgb(103,0,31)"
            ],
            [
             0.1,
             "rgb(178,24,43)"
            ],
            [
             0.2,
             "rgb(214,96,77)"
            ],
            [
             0.3,
             "rgb(244,165,130)"
            ],
            [
             0.4,
             "rgb(253,219,199)"
            ],
            [
             0.5,
             "rgb(247,247,247)"
            ],
            [
             0.6,
             "rgb(209,229,240)"
            ],
            [
             0.7,
             "rgb(146,197,222)"
            ],
            [
             0.8,
             "rgb(67,147,195)"
            ],
            [
             0.9,
             "rgb(33,102,172)"
            ],
            [
             1,
             "rgb(5,48,97)"
            ]
           ],
           "sequential": [
            [
             0,
             "#440154"
            ],
            [
             0.1111111111111111,
             "#482878"
            ],
            [
             0.2222222222222222,
             "#3e4989"
            ],
            [
             0.3333333333333333,
             "#31688e"
            ],
            [
             0.4444444444444444,
             "#26828e"
            ],
            [
             0.5555555555555556,
             "#1f9e89"
            ],
            [
             0.6666666666666666,
             "#35b779"
            ],
            [
             0.7777777777777778,
             "#6ece58"
            ],
            [
             0.8888888888888888,
             "#b5de2b"
            ],
            [
             1,
             "#fde725"
            ]
           ],
           "sequentialminus": [
            [
             0,
             "#440154"
            ],
            [
             0.1111111111111111,
             "#482878"
            ],
            [
             0.2222222222222222,
             "#3e4989"
            ],
            [
             0.3333333333333333,
             "#31688e"
            ],
            [
             0.4444444444444444,
             "#26828e"
            ],
            [
             0.5555555555555556,
             "#1f9e89"
            ],
            [
             0.6666666666666666,
             "#35b779"
            ],
            [
             0.7777777777777778,
             "#6ece58"
            ],
            [
             0.8888888888888888,
             "#b5de2b"
            ],
            [
             1,
             "#fde725"
            ]
           ]
          },
          "colorway": [
           "#1F77B4",
           "#FF7F0E",
           "#2CA02C",
           "#D62728",
           "#9467BD",
           "#8C564B",
           "#E377C2",
           "#7F7F7F",
           "#BCBD22",
           "#17BECF"
          ],
          "font": {
           "color": "black",
           "family": "arial"
          },
          "geo": {
           "bgcolor": "white",
           "lakecolor": "white",
           "landcolor": "white",
           "showlakes": true,
           "showland": true,
           "subunitcolor": "white"
          },
          "hoverlabel": {
           "align": "left"
          },
          "hovermode": "closest",
          "mapbox": {
           "style": "light"
          },
          "paper_bgcolor": "white",
          "plot_bgcolor": "white",
          "polar": {
           "angularaxis": {
            "gridcolor": "rgb(232,232,232)",
            "linecolor": "rgb(36,36,36)",
            "showgrid": false,
            "showline": true,
            "ticks": "outside"
           },
           "bgcolor": "white",
           "radialaxis": {
            "gridcolor": "rgb(232,232,232)",
            "linecolor": "rgb(36,36,36)",
            "showgrid": false,
            "showline": true,
            "ticks": "outside"
           }
          },
          "scene": {
           "xaxis": {
            "backgroundcolor": "white",
            "gridcolor": "rgb(232,232,232)",
            "gridwidth": 2,
            "linecolor": "rgb(36,36,36)",
            "showbackground": true,
            "showgrid": false,
            "showline": true,
            "ticks": "outside",
            "zeroline": false,
            "zerolinecolor": "rgb(36,36,36)"
           },
           "yaxis": {
            "backgroundcolor": "white",
            "gridcolor": "rgb(232,232,232)",
            "gridwidth": 2,
            "linecolor": "rgb(36,36,36)",
            "showbackground": true,
            "showgrid": false,
            "showline": true,
            "ticks": "outside",
            "zeroline": false,
            "zerolinecolor": "rgb(36,36,36)"
           },
           "zaxis": {
            "backgroundcolor": "white",
            "gridcolor": "rgb(232,232,232)",
            "gridwidth": 2,
            "linecolor": "rgb(36,36,36)",
            "showbackground": true,
            "showgrid": false,
            "showline": true,
            "ticks": "outside",
            "zeroline": false,
            "zerolinecolor": "rgb(36,36,36)"
           }
          },
          "shapedefaults": {
           "line": {
            "color": "black",
            "width": 1
           },
           "opacity": 1
          },
          "ternary": {
           "aaxis": {
            "gridcolor": "rgb(232,232,232)",
            "linecolor": "rgb(36,36,36)",
            "showgrid": false,
            "showline": true,
            "ticks": "outside"
           },
           "baxis": {
            "gridcolor": "rgb(232,232,232)",
            "linecolor": "rgb(36,36,36)",
            "showgrid": false,
            "showline": true,
            "ticks": "outside"
           },
           "bgcolor": "white",
           "caxis": {
            "gridcolor": "rgb(232,232,232)",
            "linecolor": "rgb(36,36,36)",
            "showgrid": false,
            "showline": true,
            "ticks": "outside"
           }
          },
          "title": {
           "x": 0.05
          },
          "xaxis": {
           "automargin": true,
           "gridcolor": "rgb(232,232,232)",
           "linecolor": "rgb(36,36,36)",
           "mirror": true,
           "showgrid": true,
           "showline": true,
           "ticks": "outside",
           "title": {
            "standoff": 5
           },
           "zeroline": false,
           "zerolinecolor": "rgb(36,36,36)"
          },
          "yaxis": {
           "automargin": true,
           "gridcolor": "rgb(232,232,232)",
           "linecolor": "rgb(36,36,36)",
           "mirror": true,
           "showgrid": true,
           "showline": true,
           "ticks": "outside",
           "title": {
            "standoff": 5
           },
           "zeroline": false,
           "zerolinecolor": "rgb(36,36,36)"
          }
         }
        },
        "title": {
         "text": "<b>Distribution of Cost Overrunns</b><br><i>Fixed Links (bridges and tunnel)</i>"
        },
        "width": 800,
        "xaxis": {
         "anchor": "y",
         "domain": [
          0,
          1
         ],
         "dtick": 0.2,
         "range": [
          -0.2,
          1.8
         ],
         "title": {
          "text": "Cost overrun vs budget"
         }
        },
        "yaxis": {
         "anchor": "x",
         "domain": [
          0,
          1
         ],
         "dtick": 0.2,
         "range": [
          0,
          1
         ],
         "tickformat": "{:.0}",
         "title": {
          "text": "Share of projects with given<br>max. cost overrun"
         }
        }
       }
      }
     },
     "metadata": {},
     "output_type": "display_data"
    }
   ],
   "source": [
    "import pandas as pd\n",
    "import numpy as np\n",
    "from scipy.optimize import curve_fit\n",
    "from scipy import stats\n",
    "\n",
    "import plotly.express as px\n",
    "import plotly.graph_objects as go\n",
    "import plotly.io as pio\n",
    "from utilities.plotting_template import local_theme\n",
    "\n",
    "pio.templates.default = local_theme\n",
    "\n",
    "\n",
    "file = \"data/probability-distribution-of-tunnel-cost-overuns-cdf.csv\"\n",
    "\n",
    "# Load the data\n",
    "df = pd.read_csv(file)\n",
    "\n",
    "# Plot the CDF as shown in the report\n",
    "fig = px.scatter(df, x=\"OverrunPercent\", y=\"CDF\").update(\n",
    "    layout=dict(\n",
    "        title=\"<b>Distribution of Cost Overrunns</b><br><i>Fixed Links (bridges and tunnel)</i>\",\n",
    "        height=500,\n",
    "        width=800,\n",
    "        xaxis=dict(\n",
    "            title=\"Cost overrun vs budget\",\n",
    "            range=[-0.2, 1.8],\n",
    "            dtick=0.2,\n",
    "        ),\n",
    "        yaxis=dict(\n",
    "            title=\"Share of projects with given<br>max. cost overrun\",\n",
    "            range=[0, 1],\n",
    "            dtick=0.2,\n",
    "            tickformat=\"{:.0}\",\n",
    "        ),\n",
    "        margin=dict(t=60, b=20, l=20, r=20),\n",
    "    )\n",
    ")\n",
    "\n",
    "fig.write_image(\"probability-distribution-of-tunnel-cost-overruns-cdf-original.svg\")\n",
    "fig.show()"
   ]
  },
  {
   "cell_type": "code",
   "execution_count": 340,
   "metadata": {},
   "outputs": [
    {
     "data": {
      "application/vnd.plotly.v1+json": {
       "config": {
        "plotlyServerURL": "https://plot.ly"
       },
       "data": [
        {
         "hovertemplate": "CostFactor=%{x}<br>CDF=%{y}<extra></extra>",
         "legendgroup": "",
         "marker": {
          "color": "#1F77B4",
          "symbol": "circle"
         },
         "mode": "markers",
         "name": "",
         "orientation": "v",
         "showlegend": false,
         "type": "scatter",
         "x": [
          0.8863298177000001,
          0.90502575423,
          0.92310522443,
          0.94072654041,
          0.95871147085,
          0.97550486469,
          0.99389256806,
          1.01302428256,
          1.03215599706,
          1.05128771155,
          1.07087494306,
          1.0910087949799998,
          1.1110515435,
          1.1316409124,
          1.1526857984,
          1.1737306843,
          1.1947755703,
          1.2158204562,
          1.2368653422,
          1.2579102281,
          1.2780941869,
          1.3,
          1.3210448859000001,
          1.3420897719,
          1.3631346577999999,
          1.3841795438,
          1.4052244297,
          1.4262693157,
          1.4473142016,
          1.4682679842,
          1.4887662497,
          1.5096118469,
          1.532259014,
          1.5518027962,
          1.5735835173,
          1.5936718175,
          1.6159676233,
          1.637037037,
          1.657615894,
          1.678807947,
          1.699852833,
          1.7208977188999999,
          1.7419426049000002,
          1.7629874908,
          1.7840323767,
          1.8050772627,
          1.8261221486,
          1.8471670346,
          1.8682119204999998,
          1.8892568065000002,
          1.9103016924,
          1.9313465784,
          1.9523914643,
          1.9734363503,
          1.9944812362,
          2.015526122,
          2.036571008,
          2.057615894,
          2.07866078,
          2.099705666,
          2.1207505519999996,
          2.141795438,
          2.1628403240000003,
          2.1838852099999997,
          2.204930096,
          2.2259749820000003,
          2.2470198679999998,
          2.268064753,
          2.2891096390000003,
          2.310154525,
          2.331199411,
          2.352244297,
          2.373289183,
          2.392420898
         ],
         "xaxis": "x",
         "y": [
          0.08649654439,
          0.1107272726999999,
          0.1404040404,
          0.1675396625999999,
          0.1942009569,
          0.2215417331,
          0.2472210526,
          0.275062201,
          0.3020574163,
          0.3293636364,
          0.3565276827999999,
          0.3811118706,
          0.4092977899,
          0.4346585472,
          0.4601609395,
          0.485154415,
          0.5092431492,
          0.5324045237,
          0.5549891257,
          0.5752892562,
          0.597138756,
          0.6169073509999999,
          0.6358503697,
          0.6542844715,
          0.6715311005,
          0.6884384515,
          0.7041017834000001,
          0.7194823836,
          0.7337886037,
          0.7476828435,
          0.7617777778,
          0.775173445,
          0.7876146730000001,
          0.8009186603,
          0.8139486733,
          0.8203691046,
          0.8311004785,
          0.8413397129000001,
          0.848708134,
          0.8588690735,
          0.8664462810000001,
          0.8737973031999999,
          0.8802435842,
          0.8866898652,
          0.8926837756,
          0.8981122227,
          0.9035406699,
          0.9084036538,
          0.9129273597,
          0.917337973,
          0.9210700304,
          0.9249151805,
          0.92830796,
          0.9309090909,
          0.934414963,
          0.9367899087,
          0.9392779469,
          0.9417659852,
          0.943123097,
          0.9452718573,
          0.9464027838,
          0.9479860809,
          0.9494562853,
          0.949569378,
          0.9508133971,
          0.9520574163,
          0.9520574163,
          0.9520574163,
          0.9520574163,
          0.9520574163,
          0.9520574163,
          0.9520574163,
          0.9520574163,
          0.9517809676
         ],
         "yaxis": "y"
        }
       ],
       "layout": {
        "height": 500,
        "legend": {
         "tracegroupgap": 0
        },
        "margin": {
         "b": 20,
         "l": 20,
         "r": 20,
         "t": 60
        },
        "template": {
         "data": {
          "bar": [
           {
            "error_x": {
             "color": "rgb(36,36,36)"
            },
            "error_y": {
             "color": "rgb(36,36,36)"
            },
            "marker": {
             "line": {
              "color": "white",
              "width": 0.5
             },
             "pattern": {
              "fillmode": "overlay",
              "size": 10,
              "solidity": 0.2
             }
            },
            "type": "bar"
           }
          ],
          "barpolar": [
           {
            "marker": {
             "line": {
              "color": "white",
              "width": 0.5
             },
             "pattern": {
              "fillmode": "overlay",
              "size": 10,
              "solidity": 0.2
             }
            },
            "type": "barpolar"
           }
          ],
          "carpet": [
           {
            "aaxis": {
             "endlinecolor": "rgb(36,36,36)",
             "gridcolor": "white",
             "linecolor": "white",
             "minorgridcolor": "white",
             "startlinecolor": "rgb(36,36,36)"
            },
            "baxis": {
             "endlinecolor": "rgb(36,36,36)",
             "gridcolor": "white",
             "linecolor": "white",
             "minorgridcolor": "white",
             "startlinecolor": "rgb(36,36,36)"
            },
            "type": "carpet"
           }
          ],
          "choropleth": [
           {
            "colorbar": {
             "outlinewidth": 1,
             "tickcolor": "rgb(36,36,36)",
             "ticks": "outside"
            },
            "type": "choropleth"
           }
          ],
          "contour": [
           {
            "colorbar": {
             "outlinewidth": 1,
             "tickcolor": "rgb(36,36,36)",
             "ticks": "outside"
            },
            "colorscale": [
             [
              0,
              "#440154"
             ],
             [
              0.1111111111111111,
              "#482878"
             ],
             [
              0.2222222222222222,
              "#3e4989"
             ],
             [
              0.3333333333333333,
              "#31688e"
             ],
             [
              0.4444444444444444,
              "#26828e"
             ],
             [
              0.5555555555555556,
              "#1f9e89"
             ],
             [
              0.6666666666666666,
              "#35b779"
             ],
             [
              0.7777777777777778,
              "#6ece58"
             ],
             [
              0.8888888888888888,
              "#b5de2b"
             ],
             [
              1,
              "#fde725"
             ]
            ],
            "type": "contour"
           }
          ],
          "contourcarpet": [
           {
            "colorbar": {
             "outlinewidth": 1,
             "tickcolor": "rgb(36,36,36)",
             "ticks": "outside"
            },
            "type": "contourcarpet"
           }
          ],
          "heatmap": [
           {
            "colorbar": {
             "outlinewidth": 1,
             "tickcolor": "rgb(36,36,36)",
             "ticks": "outside"
            },
            "colorscale": [
             [
              0,
              "#440154"
             ],
             [
              0.1111111111111111,
              "#482878"
             ],
             [
              0.2222222222222222,
              "#3e4989"
             ],
             [
              0.3333333333333333,
              "#31688e"
             ],
             [
              0.4444444444444444,
              "#26828e"
             ],
             [
              0.5555555555555556,
              "#1f9e89"
             ],
             [
              0.6666666666666666,
              "#35b779"
             ],
             [
              0.7777777777777778,
              "#6ece58"
             ],
             [
              0.8888888888888888,
              "#b5de2b"
             ],
             [
              1,
              "#fde725"
             ]
            ],
            "type": "heatmap"
           }
          ],
          "heatmapgl": [
           {
            "colorbar": {
             "outlinewidth": 1,
             "tickcolor": "rgb(36,36,36)",
             "ticks": "outside"
            },
            "colorscale": [
             [
              0,
              "#440154"
             ],
             [
              0.1111111111111111,
              "#482878"
             ],
             [
              0.2222222222222222,
              "#3e4989"
             ],
             [
              0.3333333333333333,
              "#31688e"
             ],
             [
              0.4444444444444444,
              "#26828e"
             ],
             [
              0.5555555555555556,
              "#1f9e89"
             ],
             [
              0.6666666666666666,
              "#35b779"
             ],
             [
              0.7777777777777778,
              "#6ece58"
             ],
             [
              0.8888888888888888,
              "#b5de2b"
             ],
             [
              1,
              "#fde725"
             ]
            ],
            "type": "heatmapgl"
           }
          ],
          "histogram": [
           {
            "marker": {
             "line": {
              "color": "white",
              "width": 0.6
             }
            },
            "type": "histogram"
           }
          ],
          "histogram2d": [
           {
            "colorbar": {
             "outlinewidth": 1,
             "tickcolor": "rgb(36,36,36)",
             "ticks": "outside"
            },
            "colorscale": [
             [
              0,
              "#440154"
             ],
             [
              0.1111111111111111,
              "#482878"
             ],
             [
              0.2222222222222222,
              "#3e4989"
             ],
             [
              0.3333333333333333,
              "#31688e"
             ],
             [
              0.4444444444444444,
              "#26828e"
             ],
             [
              0.5555555555555556,
              "#1f9e89"
             ],
             [
              0.6666666666666666,
              "#35b779"
             ],
             [
              0.7777777777777778,
              "#6ece58"
             ],
             [
              0.8888888888888888,
              "#b5de2b"
             ],
             [
              1,
              "#fde725"
             ]
            ],
            "type": "histogram2d"
           }
          ],
          "histogram2dcontour": [
           {
            "colorbar": {
             "outlinewidth": 1,
             "tickcolor": "rgb(36,36,36)",
             "ticks": "outside"
            },
            "colorscale": [
             [
              0,
              "#440154"
             ],
             [
              0.1111111111111111,
              "#482878"
             ],
             [
              0.2222222222222222,
              "#3e4989"
             ],
             [
              0.3333333333333333,
              "#31688e"
             ],
             [
              0.4444444444444444,
              "#26828e"
             ],
             [
              0.5555555555555556,
              "#1f9e89"
             ],
             [
              0.6666666666666666,
              "#35b779"
             ],
             [
              0.7777777777777778,
              "#6ece58"
             ],
             [
              0.8888888888888888,
              "#b5de2b"
             ],
             [
              1,
              "#fde725"
             ]
            ],
            "type": "histogram2dcontour"
           }
          ],
          "mesh3d": [
           {
            "colorbar": {
             "outlinewidth": 1,
             "tickcolor": "rgb(36,36,36)",
             "ticks": "outside"
            },
            "type": "mesh3d"
           }
          ],
          "parcoords": [
           {
            "line": {
             "colorbar": {
              "outlinewidth": 1,
              "tickcolor": "rgb(36,36,36)",
              "ticks": "outside"
             }
            },
            "type": "parcoords"
           }
          ],
          "pie": [
           {
            "automargin": true,
            "type": "pie"
           }
          ],
          "scatter": [
           {
            "fillpattern": {
             "fillmode": "overlay",
             "size": 10,
             "solidity": 0.2
            },
            "type": "scatter"
           }
          ],
          "scatter3d": [
           {
            "line": {
             "colorbar": {
              "outlinewidth": 1,
              "tickcolor": "rgb(36,36,36)",
              "ticks": "outside"
             }
            },
            "marker": {
             "colorbar": {
              "outlinewidth": 1,
              "tickcolor": "rgb(36,36,36)",
              "ticks": "outside"
             }
            },
            "type": "scatter3d"
           }
          ],
          "scattercarpet": [
           {
            "marker": {
             "colorbar": {
              "outlinewidth": 1,
              "tickcolor": "rgb(36,36,36)",
              "ticks": "outside"
             }
            },
            "type": "scattercarpet"
           }
          ],
          "scattergeo": [
           {
            "marker": {
             "colorbar": {
              "outlinewidth": 1,
              "tickcolor": "rgb(36,36,36)",
              "ticks": "outside"
             }
            },
            "type": "scattergeo"
           }
          ],
          "scattergl": [
           {
            "marker": {
             "colorbar": {
              "outlinewidth": 1,
              "tickcolor": "rgb(36,36,36)",
              "ticks": "outside"
             }
            },
            "type": "scattergl"
           }
          ],
          "scattermapbox": [
           {
            "marker": {
             "colorbar": {
              "outlinewidth": 1,
              "tickcolor": "rgb(36,36,36)",
              "ticks": "outside"
             }
            },
            "type": "scattermapbox"
           }
          ],
          "scatterpolar": [
           {
            "marker": {
             "colorbar": {
              "outlinewidth": 1,
              "tickcolor": "rgb(36,36,36)",
              "ticks": "outside"
             }
            },
            "type": "scatterpolar"
           }
          ],
          "scatterpolargl": [
           {
            "marker": {
             "colorbar": {
              "outlinewidth": 1,
              "tickcolor": "rgb(36,36,36)",
              "ticks": "outside"
             }
            },
            "type": "scatterpolargl"
           }
          ],
          "scatterternary": [
           {
            "marker": {
             "colorbar": {
              "outlinewidth": 1,
              "tickcolor": "rgb(36,36,36)",
              "ticks": "outside"
             }
            },
            "type": "scatterternary"
           }
          ],
          "surface": [
           {
            "colorbar": {
             "outlinewidth": 1,
             "tickcolor": "rgb(36,36,36)",
             "ticks": "outside"
            },
            "colorscale": [
             [
              0,
              "#440154"
             ],
             [
              0.1111111111111111,
              "#482878"
             ],
             [
              0.2222222222222222,
              "#3e4989"
             ],
             [
              0.3333333333333333,
              "#31688e"
             ],
             [
              0.4444444444444444,
              "#26828e"
             ],
             [
              0.5555555555555556,
              "#1f9e89"
             ],
             [
              0.6666666666666666,
              "#35b779"
             ],
             [
              0.7777777777777778,
              "#6ece58"
             ],
             [
              0.8888888888888888,
              "#b5de2b"
             ],
             [
              1,
              "#fde725"
             ]
            ],
            "type": "surface"
           }
          ],
          "table": [
           {
            "cells": {
             "fill": {
              "color": "rgb(237,237,237)"
             },
             "line": {
              "color": "white"
             }
            },
            "header": {
             "fill": {
              "color": "rgb(217,217,217)"
             },
             "line": {
              "color": "white"
             }
            },
            "type": "table"
           }
          ]
         },
         "layout": {
          "annotationdefaults": {
           "arrowhead": 0,
           "arrowwidth": 1
          },
          "autotypenumbers": "strict",
          "coloraxis": {
           "colorbar": {
            "outlinewidth": 1,
            "tickcolor": "rgb(36,36,36)",
            "ticks": "outside"
           }
          },
          "colorscale": {
           "diverging": [
            [
             0,
             "rgb(103,0,31)"
            ],
            [
             0.1,
             "rgb(178,24,43)"
            ],
            [
             0.2,
             "rgb(214,96,77)"
            ],
            [
             0.3,
             "rgb(244,165,130)"
            ],
            [
             0.4,
             "rgb(253,219,199)"
            ],
            [
             0.5,
             "rgb(247,247,247)"
            ],
            [
             0.6,
             "rgb(209,229,240)"
            ],
            [
             0.7,
             "rgb(146,197,222)"
            ],
            [
             0.8,
             "rgb(67,147,195)"
            ],
            [
             0.9,
             "rgb(33,102,172)"
            ],
            [
             1,
             "rgb(5,48,97)"
            ]
           ],
           "sequential": [
            [
             0,
             "#440154"
            ],
            [
             0.1111111111111111,
             "#482878"
            ],
            [
             0.2222222222222222,
             "#3e4989"
            ],
            [
             0.3333333333333333,
             "#31688e"
            ],
            [
             0.4444444444444444,
             "#26828e"
            ],
            [
             0.5555555555555556,
             "#1f9e89"
            ],
            [
             0.6666666666666666,
             "#35b779"
            ],
            [
             0.7777777777777778,
             "#6ece58"
            ],
            [
             0.8888888888888888,
             "#b5de2b"
            ],
            [
             1,
             "#fde725"
            ]
           ],
           "sequentialminus": [
            [
             0,
             "#440154"
            ],
            [
             0.1111111111111111,
             "#482878"
            ],
            [
             0.2222222222222222,
             "#3e4989"
            ],
            [
             0.3333333333333333,
             "#31688e"
            ],
            [
             0.4444444444444444,
             "#26828e"
            ],
            [
             0.5555555555555556,
             "#1f9e89"
            ],
            [
             0.6666666666666666,
             "#35b779"
            ],
            [
             0.7777777777777778,
             "#6ece58"
            ],
            [
             0.8888888888888888,
             "#b5de2b"
            ],
            [
             1,
             "#fde725"
            ]
           ]
          },
          "colorway": [
           "#1F77B4",
           "#FF7F0E",
           "#2CA02C",
           "#D62728",
           "#9467BD",
           "#8C564B",
           "#E377C2",
           "#7F7F7F",
           "#BCBD22",
           "#17BECF"
          ],
          "font": {
           "color": "black",
           "family": "arial"
          },
          "geo": {
           "bgcolor": "white",
           "lakecolor": "white",
           "landcolor": "white",
           "showlakes": true,
           "showland": true,
           "subunitcolor": "white"
          },
          "hoverlabel": {
           "align": "left"
          },
          "hovermode": "closest",
          "mapbox": {
           "style": "light"
          },
          "paper_bgcolor": "white",
          "plot_bgcolor": "white",
          "polar": {
           "angularaxis": {
            "gridcolor": "rgb(232,232,232)",
            "linecolor": "rgb(36,36,36)",
            "showgrid": false,
            "showline": true,
            "ticks": "outside"
           },
           "bgcolor": "white",
           "radialaxis": {
            "gridcolor": "rgb(232,232,232)",
            "linecolor": "rgb(36,36,36)",
            "showgrid": false,
            "showline": true,
            "ticks": "outside"
           }
          },
          "scene": {
           "xaxis": {
            "backgroundcolor": "white",
            "gridcolor": "rgb(232,232,232)",
            "gridwidth": 2,
            "linecolor": "rgb(36,36,36)",
            "showbackground": true,
            "showgrid": false,
            "showline": true,
            "ticks": "outside",
            "zeroline": false,
            "zerolinecolor": "rgb(36,36,36)"
           },
           "yaxis": {
            "backgroundcolor": "white",
            "gridcolor": "rgb(232,232,232)",
            "gridwidth": 2,
            "linecolor": "rgb(36,36,36)",
            "showbackground": true,
            "showgrid": false,
            "showline": true,
            "ticks": "outside",
            "zeroline": false,
            "zerolinecolor": "rgb(36,36,36)"
           },
           "zaxis": {
            "backgroundcolor": "white",
            "gridcolor": "rgb(232,232,232)",
            "gridwidth": 2,
            "linecolor": "rgb(36,36,36)",
            "showbackground": true,
            "showgrid": false,
            "showline": true,
            "ticks": "outside",
            "zeroline": false,
            "zerolinecolor": "rgb(36,36,36)"
           }
          },
          "shapedefaults": {
           "line": {
            "color": "black",
            "width": 1
           },
           "opacity": 1
          },
          "ternary": {
           "aaxis": {
            "gridcolor": "rgb(232,232,232)",
            "linecolor": "rgb(36,36,36)",
            "showgrid": false,
            "showline": true,
            "ticks": "outside"
           },
           "baxis": {
            "gridcolor": "rgb(232,232,232)",
            "linecolor": "rgb(36,36,36)",
            "showgrid": false,
            "showline": true,
            "ticks": "outside"
           },
           "bgcolor": "white",
           "caxis": {
            "gridcolor": "rgb(232,232,232)",
            "linecolor": "rgb(36,36,36)",
            "showgrid": false,
            "showline": true,
            "ticks": "outside"
           }
          },
          "title": {
           "x": 0.05
          },
          "xaxis": {
           "automargin": true,
           "gridcolor": "rgb(232,232,232)",
           "linecolor": "rgb(36,36,36)",
           "mirror": true,
           "showgrid": true,
           "showline": true,
           "ticks": "outside",
           "title": {
            "standoff": 5
           },
           "zeroline": false,
           "zerolinecolor": "rgb(36,36,36)"
          },
          "yaxis": {
           "automargin": true,
           "gridcolor": "rgb(232,232,232)",
           "linecolor": "rgb(36,36,36)",
           "mirror": true,
           "showgrid": true,
           "showline": true,
           "ticks": "outside",
           "title": {
            "standoff": 5
           },
           "zeroline": false,
           "zerolinecolor": "rgb(36,36,36)"
          }
         }
        },
        "title": {
         "text": "<b>Distribution of Cost Factors</b><br><i>Fixed Links (bridges and tunnel)</i>"
        },
        "width": 800,
        "xaxis": {
         "anchor": "y",
         "domain": [
          0,
          1
         ],
         "dtick": 0.2,
         "range": [
          0.8,
          2.8
         ],
         "title": {
          "text": "Cost factor"
         }
        },
        "yaxis": {
         "anchor": "x",
         "domain": [
          0,
          1
         ],
         "dtick": 0.2,
         "range": [
          0,
          1
         ],
         "title": {
          "text": "Share of projects with given<br>cost factor"
         }
        }
       }
      }
     },
     "metadata": {},
     "output_type": "display_data"
    }
   ],
   "source": [
    "# Convert the cost overrun percent to a cost factor\n",
    "# so that the x values are not negative (helps with the math)\n",
    "df[\"CostFactor\"] = 1 + df[\"OverrunPercent\"]\n",
    "df = df[[\"CostFactor\", \"CDF\"]]\n",
    "\n",
    "# Plot the cost factor\n",
    "fig_cdf = px.scatter(df, x=\"CostFactor\", y=\"CDF\").update(\n",
    "    layout=dict(\n",
    "        title=\"<b>Distribution of Cost Factors</b><br><i>Fixed Links (bridges and tunnel)</i>\",\n",
    "        height=500,\n",
    "        width=800,\n",
    "        xaxis=dict(title=\"Cost factor\", range=[0.8, 2.8], dtick=0.2),\n",
    "        yaxis=dict(\n",
    "            title=\"Share of projects with given<br>cost factor\",\n",
    "            range=[0, 1],\n",
    "            dtick=0.2,\n",
    "        ),\n",
    "        margin=dict(t=60, b=20, l=20, r=20),\n",
    "    )\n",
    ")\n",
    "fig_cdf.show()"
   ]
  },
  {
   "cell_type": "code",
   "execution_count": 341,
   "metadata": {},
   "outputs": [
    {
     "data": {
      "application/vnd.plotly.v1+json": {
       "config": {
        "plotlyServerURL": "https://plot.ly"
       },
       "data": [
        {
         "hovertemplate": "CostFactor=%{x}<br>CDF=%{y}<extra></extra>",
         "legendgroup": "",
         "marker": {
          "color": "#1F77B4",
          "symbol": "circle"
         },
         "mode": "markers",
         "name": "",
         "orientation": "v",
         "showlegend": false,
         "type": "scatter",
         "x": [
          0.8336610560124027,
          0.90502575423,
          0.92310522443,
          0.94072654041,
          0.95871147085,
          0.97550486469,
          0.99389256806,
          1.01302428256,
          1.03215599706,
          1.05128771155,
          1.07087494306,
          1.0910087949799998,
          1.1110515435,
          1.1316409124,
          1.1526857984,
          1.1737306843,
          1.1947755703,
          1.2158204562,
          1.2368653422,
          1.2579102281,
          1.2780941869,
          1.3,
          1.3210448859000001,
          1.3420897719,
          1.3631346577999999,
          1.3841795438,
          1.4052244297,
          1.4262693157,
          1.4473142016,
          1.4682679842,
          1.4887662497,
          1.5096118469,
          1.532259014,
          1.5518027962,
          1.5735835173,
          1.5936718175,
          1.6159676233,
          1.637037037,
          1.657615894,
          1.678807947,
          1.699852833,
          1.7208977188999999,
          1.7419426049000002,
          1.7629874908,
          1.7840323767,
          1.8050772627,
          1.8261221486,
          1.8471670346,
          1.8682119204999998,
          1.8892568065000002,
          1.9103016924,
          1.9313465784,
          1.9523914643,
          1.9734363503,
          1.9944812362,
          2.015526122,
          2.036571008,
          2.057615894,
          2.07866078,
          2.099705666,
          2.1207505519999996,
          2.141795438,
          2.1628403240000003,
          2.1838852099999997,
          2.204930096,
          2.2259749820000003,
          2.8
         ],
         "xaxis": "x",
         "y": [
          0,
          0.1107272726999999,
          0.1404040404,
          0.1675396625999999,
          0.1942009569,
          0.2215417331,
          0.2472210526,
          0.275062201,
          0.3020574163,
          0.3293636364,
          0.3565276827999999,
          0.3811118706,
          0.4092977899,
          0.4346585472,
          0.4601609395,
          0.485154415,
          0.5092431492,
          0.5324045237,
          0.5549891257,
          0.5752892562,
          0.597138756,
          0.6169073509999999,
          0.6358503697,
          0.6542844715,
          0.6715311005,
          0.6884384515,
          0.7041017834000001,
          0.7194823836,
          0.7337886037,
          0.7476828435,
          0.7617777778,
          0.775173445,
          0.7876146730000001,
          0.8009186603,
          0.8139486733,
          0.8203691046,
          0.8311004785,
          0.8413397129000001,
          0.848708134,
          0.8588690735,
          0.8664462810000001,
          0.8737973031999999,
          0.8802435842,
          0.8866898652,
          0.8926837756,
          0.8981122227,
          0.9035406699,
          0.9084036538,
          0.9129273597,
          0.917337973,
          0.9210700304,
          0.9249151805,
          0.92830796,
          0.9309090909,
          0.934414963,
          0.9367899087,
          0.9392779469,
          0.9417659852,
          0.943123097,
          0.9452718573,
          0.9464027838,
          0.9479860809,
          0.9494562853,
          0.949569378,
          0.9508133971,
          0.9520574163,
          1
         ],
         "yaxis": "y"
        }
       ],
       "layout": {
        "height": 500,
        "legend": {
         "tracegroupgap": 0
        },
        "margin": {
         "b": 20,
         "l": 20,
         "r": 20,
         "t": 60
        },
        "template": {
         "data": {
          "bar": [
           {
            "error_x": {
             "color": "rgb(36,36,36)"
            },
            "error_y": {
             "color": "rgb(36,36,36)"
            },
            "marker": {
             "line": {
              "color": "white",
              "width": 0.5
             },
             "pattern": {
              "fillmode": "overlay",
              "size": 10,
              "solidity": 0.2
             }
            },
            "type": "bar"
           }
          ],
          "barpolar": [
           {
            "marker": {
             "line": {
              "color": "white",
              "width": 0.5
             },
             "pattern": {
              "fillmode": "overlay",
              "size": 10,
              "solidity": 0.2
             }
            },
            "type": "barpolar"
           }
          ],
          "carpet": [
           {
            "aaxis": {
             "endlinecolor": "rgb(36,36,36)",
             "gridcolor": "white",
             "linecolor": "white",
             "minorgridcolor": "white",
             "startlinecolor": "rgb(36,36,36)"
            },
            "baxis": {
             "endlinecolor": "rgb(36,36,36)",
             "gridcolor": "white",
             "linecolor": "white",
             "minorgridcolor": "white",
             "startlinecolor": "rgb(36,36,36)"
            },
            "type": "carpet"
           }
          ],
          "choropleth": [
           {
            "colorbar": {
             "outlinewidth": 1,
             "tickcolor": "rgb(36,36,36)",
             "ticks": "outside"
            },
            "type": "choropleth"
           }
          ],
          "contour": [
           {
            "colorbar": {
             "outlinewidth": 1,
             "tickcolor": "rgb(36,36,36)",
             "ticks": "outside"
            },
            "colorscale": [
             [
              0,
              "#440154"
             ],
             [
              0.1111111111111111,
              "#482878"
             ],
             [
              0.2222222222222222,
              "#3e4989"
             ],
             [
              0.3333333333333333,
              "#31688e"
             ],
             [
              0.4444444444444444,
              "#26828e"
             ],
             [
              0.5555555555555556,
              "#1f9e89"
             ],
             [
              0.6666666666666666,
              "#35b779"
             ],
             [
              0.7777777777777778,
              "#6ece58"
             ],
             [
              0.8888888888888888,
              "#b5de2b"
             ],
             [
              1,
              "#fde725"
             ]
            ],
            "type": "contour"
           }
          ],
          "contourcarpet": [
           {
            "colorbar": {
             "outlinewidth": 1,
             "tickcolor": "rgb(36,36,36)",
             "ticks": "outside"
            },
            "type": "contourcarpet"
           }
          ],
          "heatmap": [
           {
            "colorbar": {
             "outlinewidth": 1,
             "tickcolor": "rgb(36,36,36)",
             "ticks": "outside"
            },
            "colorscale": [
             [
              0,
              "#440154"
             ],
             [
              0.1111111111111111,
              "#482878"
             ],
             [
              0.2222222222222222,
              "#3e4989"
             ],
             [
              0.3333333333333333,
              "#31688e"
             ],
             [
              0.4444444444444444,
              "#26828e"
             ],
             [
              0.5555555555555556,
              "#1f9e89"
             ],
             [
              0.6666666666666666,
              "#35b779"
             ],
             [
              0.7777777777777778,
              "#6ece58"
             ],
             [
              0.8888888888888888,
              "#b5de2b"
             ],
             [
              1,
              "#fde725"
             ]
            ],
            "type": "heatmap"
           }
          ],
          "heatmapgl": [
           {
            "colorbar": {
             "outlinewidth": 1,
             "tickcolor": "rgb(36,36,36)",
             "ticks": "outside"
            },
            "colorscale": [
             [
              0,
              "#440154"
             ],
             [
              0.1111111111111111,
              "#482878"
             ],
             [
              0.2222222222222222,
              "#3e4989"
             ],
             [
              0.3333333333333333,
              "#31688e"
             ],
             [
              0.4444444444444444,
              "#26828e"
             ],
             [
              0.5555555555555556,
              "#1f9e89"
             ],
             [
              0.6666666666666666,
              "#35b779"
             ],
             [
              0.7777777777777778,
              "#6ece58"
             ],
             [
              0.8888888888888888,
              "#b5de2b"
             ],
             [
              1,
              "#fde725"
             ]
            ],
            "type": "heatmapgl"
           }
          ],
          "histogram": [
           {
            "marker": {
             "line": {
              "color": "white",
              "width": 0.6
             }
            },
            "type": "histogram"
           }
          ],
          "histogram2d": [
           {
            "colorbar": {
             "outlinewidth": 1,
             "tickcolor": "rgb(36,36,36)",
             "ticks": "outside"
            },
            "colorscale": [
             [
              0,
              "#440154"
             ],
             [
              0.1111111111111111,
              "#482878"
             ],
             [
              0.2222222222222222,
              "#3e4989"
             ],
             [
              0.3333333333333333,
              "#31688e"
             ],
             [
              0.4444444444444444,
              "#26828e"
             ],
             [
              0.5555555555555556,
              "#1f9e89"
             ],
             [
              0.6666666666666666,
              "#35b779"
             ],
             [
              0.7777777777777778,
              "#6ece58"
             ],
             [
              0.8888888888888888,
              "#b5de2b"
             ],
             [
              1,
              "#fde725"
             ]
            ],
            "type": "histogram2d"
           }
          ],
          "histogram2dcontour": [
           {
            "colorbar": {
             "outlinewidth": 1,
             "tickcolor": "rgb(36,36,36)",
             "ticks": "outside"
            },
            "colorscale": [
             [
              0,
              "#440154"
             ],
             [
              0.1111111111111111,
              "#482878"
             ],
             [
              0.2222222222222222,
              "#3e4989"
             ],
             [
              0.3333333333333333,
              "#31688e"
             ],
             [
              0.4444444444444444,
              "#26828e"
             ],
             [
              0.5555555555555556,
              "#1f9e89"
             ],
             [
              0.6666666666666666,
              "#35b779"
             ],
             [
              0.7777777777777778,
              "#6ece58"
             ],
             [
              0.8888888888888888,
              "#b5de2b"
             ],
             [
              1,
              "#fde725"
             ]
            ],
            "type": "histogram2dcontour"
           }
          ],
          "mesh3d": [
           {
            "colorbar": {
             "outlinewidth": 1,
             "tickcolor": "rgb(36,36,36)",
             "ticks": "outside"
            },
            "type": "mesh3d"
           }
          ],
          "parcoords": [
           {
            "line": {
             "colorbar": {
              "outlinewidth": 1,
              "tickcolor": "rgb(36,36,36)",
              "ticks": "outside"
             }
            },
            "type": "parcoords"
           }
          ],
          "pie": [
           {
            "automargin": true,
            "type": "pie"
           }
          ],
          "scatter": [
           {
            "fillpattern": {
             "fillmode": "overlay",
             "size": 10,
             "solidity": 0.2
            },
            "type": "scatter"
           }
          ],
          "scatter3d": [
           {
            "line": {
             "colorbar": {
              "outlinewidth": 1,
              "tickcolor": "rgb(36,36,36)",
              "ticks": "outside"
             }
            },
            "marker": {
             "colorbar": {
              "outlinewidth": 1,
              "tickcolor": "rgb(36,36,36)",
              "ticks": "outside"
             }
            },
            "type": "scatter3d"
           }
          ],
          "scattercarpet": [
           {
            "marker": {
             "colorbar": {
              "outlinewidth": 1,
              "tickcolor": "rgb(36,36,36)",
              "ticks": "outside"
             }
            },
            "type": "scattercarpet"
           }
          ],
          "scattergeo": [
           {
            "marker": {
             "colorbar": {
              "outlinewidth": 1,
              "tickcolor": "rgb(36,36,36)",
              "ticks": "outside"
             }
            },
            "type": "scattergeo"
           }
          ],
          "scattergl": [
           {
            "marker": {
             "colorbar": {
              "outlinewidth": 1,
              "tickcolor": "rgb(36,36,36)",
              "ticks": "outside"
             }
            },
            "type": "scattergl"
           }
          ],
          "scattermapbox": [
           {
            "marker": {
             "colorbar": {
              "outlinewidth": 1,
              "tickcolor": "rgb(36,36,36)",
              "ticks": "outside"
             }
            },
            "type": "scattermapbox"
           }
          ],
          "scatterpolar": [
           {
            "marker": {
             "colorbar": {
              "outlinewidth": 1,
              "tickcolor": "rgb(36,36,36)",
              "ticks": "outside"
             }
            },
            "type": "scatterpolar"
           }
          ],
          "scatterpolargl": [
           {
            "marker": {
             "colorbar": {
              "outlinewidth": 1,
              "tickcolor": "rgb(36,36,36)",
              "ticks": "outside"
             }
            },
            "type": "scatterpolargl"
           }
          ],
          "scatterternary": [
           {
            "marker": {
             "colorbar": {
              "outlinewidth": 1,
              "tickcolor": "rgb(36,36,36)",
              "ticks": "outside"
             }
            },
            "type": "scatterternary"
           }
          ],
          "surface": [
           {
            "colorbar": {
             "outlinewidth": 1,
             "tickcolor": "rgb(36,36,36)",
             "ticks": "outside"
            },
            "colorscale": [
             [
              0,
              "#440154"
             ],
             [
              0.1111111111111111,
              "#482878"
             ],
             [
              0.2222222222222222,
              "#3e4989"
             ],
             [
              0.3333333333333333,
              "#31688e"
             ],
             [
              0.4444444444444444,
              "#26828e"
             ],
             [
              0.5555555555555556,
              "#1f9e89"
             ],
             [
              0.6666666666666666,
              "#35b779"
             ],
             [
              0.7777777777777778,
              "#6ece58"
             ],
             [
              0.8888888888888888,
              "#b5de2b"
             ],
             [
              1,
              "#fde725"
             ]
            ],
            "type": "surface"
           }
          ],
          "table": [
           {
            "cells": {
             "fill": {
              "color": "rgb(237,237,237)"
             },
             "line": {
              "color": "white"
             }
            },
            "header": {
             "fill": {
              "color": "rgb(217,217,217)"
             },
             "line": {
              "color": "white"
             }
            },
            "type": "table"
           }
          ]
         },
         "layout": {
          "annotationdefaults": {
           "arrowhead": 0,
           "arrowwidth": 1
          },
          "autotypenumbers": "strict",
          "coloraxis": {
           "colorbar": {
            "outlinewidth": 1,
            "tickcolor": "rgb(36,36,36)",
            "ticks": "outside"
           }
          },
          "colorscale": {
           "diverging": [
            [
             0,
             "rgb(103,0,31)"
            ],
            [
             0.1,
             "rgb(178,24,43)"
            ],
            [
             0.2,
             "rgb(214,96,77)"
            ],
            [
             0.3,
             "rgb(244,165,130)"
            ],
            [
             0.4,
             "rgb(253,219,199)"
            ],
            [
             0.5,
             "rgb(247,247,247)"
            ],
            [
             0.6,
             "rgb(209,229,240)"
            ],
            [
             0.7,
             "rgb(146,197,222)"
            ],
            [
             0.8,
             "rgb(67,147,195)"
            ],
            [
             0.9,
             "rgb(33,102,172)"
            ],
            [
             1,
             "rgb(5,48,97)"
            ]
           ],
           "sequential": [
            [
             0,
             "#440154"
            ],
            [
             0.1111111111111111,
             "#482878"
            ],
            [
             0.2222222222222222,
             "#3e4989"
            ],
            [
             0.3333333333333333,
             "#31688e"
            ],
            [
             0.4444444444444444,
             "#26828e"
            ],
            [
             0.5555555555555556,
             "#1f9e89"
            ],
            [
             0.6666666666666666,
             "#35b779"
            ],
            [
             0.7777777777777778,
             "#6ece58"
            ],
            [
             0.8888888888888888,
             "#b5de2b"
            ],
            [
             1,
             "#fde725"
            ]
           ],
           "sequentialminus": [
            [
             0,
             "#440154"
            ],
            [
             0.1111111111111111,
             "#482878"
            ],
            [
             0.2222222222222222,
             "#3e4989"
            ],
            [
             0.3333333333333333,
             "#31688e"
            ],
            [
             0.4444444444444444,
             "#26828e"
            ],
            [
             0.5555555555555556,
             "#1f9e89"
            ],
            [
             0.6666666666666666,
             "#35b779"
            ],
            [
             0.7777777777777778,
             "#6ece58"
            ],
            [
             0.8888888888888888,
             "#b5de2b"
            ],
            [
             1,
             "#fde725"
            ]
           ]
          },
          "colorway": [
           "#1F77B4",
           "#FF7F0E",
           "#2CA02C",
           "#D62728",
           "#9467BD",
           "#8C564B",
           "#E377C2",
           "#7F7F7F",
           "#BCBD22",
           "#17BECF"
          ],
          "font": {
           "color": "black",
           "family": "arial"
          },
          "geo": {
           "bgcolor": "white",
           "lakecolor": "white",
           "landcolor": "white",
           "showlakes": true,
           "showland": true,
           "subunitcolor": "white"
          },
          "hoverlabel": {
           "align": "left"
          },
          "hovermode": "closest",
          "mapbox": {
           "style": "light"
          },
          "paper_bgcolor": "white",
          "plot_bgcolor": "white",
          "polar": {
           "angularaxis": {
            "gridcolor": "rgb(232,232,232)",
            "linecolor": "rgb(36,36,36)",
            "showgrid": false,
            "showline": true,
            "ticks": "outside"
           },
           "bgcolor": "white",
           "radialaxis": {
            "gridcolor": "rgb(232,232,232)",
            "linecolor": "rgb(36,36,36)",
            "showgrid": false,
            "showline": true,
            "ticks": "outside"
           }
          },
          "scene": {
           "xaxis": {
            "backgroundcolor": "white",
            "gridcolor": "rgb(232,232,232)",
            "gridwidth": 2,
            "linecolor": "rgb(36,36,36)",
            "showbackground": true,
            "showgrid": false,
            "showline": true,
            "ticks": "outside",
            "zeroline": false,
            "zerolinecolor": "rgb(36,36,36)"
           },
           "yaxis": {
            "backgroundcolor": "white",
            "gridcolor": "rgb(232,232,232)",
            "gridwidth": 2,
            "linecolor": "rgb(36,36,36)",
            "showbackground": true,
            "showgrid": false,
            "showline": true,
            "ticks": "outside",
            "zeroline": false,
            "zerolinecolor": "rgb(36,36,36)"
           },
           "zaxis": {
            "backgroundcolor": "white",
            "gridcolor": "rgb(232,232,232)",
            "gridwidth": 2,
            "linecolor": "rgb(36,36,36)",
            "showbackground": true,
            "showgrid": false,
            "showline": true,
            "ticks": "outside",
            "zeroline": false,
            "zerolinecolor": "rgb(36,36,36)"
           }
          },
          "shapedefaults": {
           "line": {
            "color": "black",
            "width": 1
           },
           "opacity": 1
          },
          "ternary": {
           "aaxis": {
            "gridcolor": "rgb(232,232,232)",
            "linecolor": "rgb(36,36,36)",
            "showgrid": false,
            "showline": true,
            "ticks": "outside"
           },
           "baxis": {
            "gridcolor": "rgb(232,232,232)",
            "linecolor": "rgb(36,36,36)",
            "showgrid": false,
            "showline": true,
            "ticks": "outside"
           },
           "bgcolor": "white",
           "caxis": {
            "gridcolor": "rgb(232,232,232)",
            "linecolor": "rgb(36,36,36)",
            "showgrid": false,
            "showline": true,
            "ticks": "outside"
           }
          },
          "title": {
           "x": 0.05
          },
          "xaxis": {
           "automargin": true,
           "gridcolor": "rgb(232,232,232)",
           "linecolor": "rgb(36,36,36)",
           "mirror": true,
           "showgrid": true,
           "showline": true,
           "ticks": "outside",
           "title": {
            "standoff": 5
           },
           "zeroline": false,
           "zerolinecolor": "rgb(36,36,36)"
          },
          "yaxis": {
           "automargin": true,
           "gridcolor": "rgb(232,232,232)",
           "linecolor": "rgb(36,36,36)",
           "mirror": true,
           "showgrid": true,
           "showline": true,
           "ticks": "outside",
           "title": {
            "standoff": 5
           },
           "zeroline": false,
           "zerolinecolor": "rgb(36,36,36)"
          }
         }
        },
        "title": {
         "text": "<b>Distribution of Cost Factors</b><br><i>Fixed Links (bridges and tunnel)</i>"
        },
        "width": 800,
        "xaxis": {
         "anchor": "y",
         "domain": [
          0,
          1
         ],
         "dtick": 0.2,
         "range": [
          0.8,
          2.8
         ],
         "title": {
          "text": "Cost factor"
         }
        },
        "yaxis": {
         "anchor": "x",
         "domain": [
          0,
          1
         ],
         "dtick": 0.2,
         "range": [
          0,
          1
         ],
         "title": {
          "text": "Share of projects with given<br>cost factor"
         }
        }
       }
      }
     },
     "metadata": {},
     "output_type": "display_data"
    }
   ],
   "source": [
    "# The CDF in the paper does not extent from 0 to 1 but from ~0.1 to 0.95\n",
    "# To run the rest of the process, it should be extended to the range between 0 and 1\n",
    "# Also, non-increasing portions of the chart should be removed\n",
    "\n",
    "# Remove the portions of the chart that are not increasing\n",
    "df = df.loc[\n",
    "    (df[\"CDF\"].diff() > 0)\n",
    "    & ((df[\"CostFactor\"].diff().notnull()) & (df[\"CostFactor\"].diff() > 0))\n",
    "]\n",
    "\n",
    "# Get the x-intercept (where y == 0) for the plot\n",
    "# For the linear regression, use the `CDF` as the x value and `CostFactor` as the y value\n",
    "# These are opposite from the plot, so they give the y-int instead of the x-int\n",
    "slope, intercept = stats.linregress(df.loc[0:5][[\"CDF\", \"CostFactor\"]])[0:2]\n",
    "\n",
    "# Add the intercept as a point in the dataframe\n",
    "df1 = pd.DataFrame([{\"CDF\": 0, \"CostFactor\": intercept}, {\"CDF\": 1, \"CostFactor\": 2.8}])\n",
    "df = (\n",
    "    pd.concat(\n",
    "        [\n",
    "            df,\n",
    "            df1,\n",
    "        ],\n",
    "        ignore_index=True,\n",
    "    )\n",
    "    .sort_values(\"CDF\")\n",
    "    .reset_index()\n",
    "    .drop(columns=\"index\")\n",
    ")\n",
    "\n",
    "# See what the new plot looks like\n",
    "# Plot the cost factor\n",
    "fig_cdf = px.scatter(df, x=\"CostFactor\", y=\"CDF\").update(\n",
    "    layout=dict(\n",
    "        title=\"<b>Distribution of Cost Factors</b><br><i>Fixed Links (bridges and tunnel)</i>\",\n",
    "        height=500,\n",
    "        width=800,\n",
    "        xaxis=dict(title=\"Cost factor\", range=[0.8, 2.8], dtick=0.2),\n",
    "        yaxis=dict(\n",
    "            title=\"Share of projects with given<br>cost factor\",\n",
    "            range=[0, 1],\n",
    "            dtick=0.2,\n",
    "        ),\n",
    "        margin=dict(t=60, b=20, l=20, r=20),\n",
    "    )\n",
    ")\n",
    "\n",
    "fig_cdf.write_image(\n",
    "    \"probability-distribution-of-tunnel-cost-overruns-cdf-costfactor.svg\"\n",
    ")\n",
    "fig_cdf.show()"
   ]
  },
  {
   "cell_type": "code",
   "execution_count": 342,
   "metadata": {},
   "outputs": [],
   "source": [
    "# Add the upper and lower bounds to the CDF\n",
    "# These were not included in the original image, but help with the processing\n",
    "def inverse_cdf(u: float) -> float:\n",
    "    \"Perform a linear interpolation using `CDF` as the `x` and `CostFactor` as the `y`\"\n",
    "    return np.interp(u, df[\"CDF\"], df[\"CostFactor\"])\n",
    "\n",
    "\n",
    "df = df.sort_values(\"CDF\")\n",
    "# Generate N uniform random numbers\n",
    "N = 10000  # for example\n",
    "uniform_random_numbers = np.random.uniform(0, 1, N)\n",
    "\n",
    "# Apply the inverse CDF to these numbers\n",
    "random_variables = [inverse_cdf(u) for u in uniform_random_numbers]\n",
    "\n",
    "fig = px.histogram(x=random_variables).update(\n",
    "    layout=dict(\n",
    "        height=500,\n",
    "        width=800,\n",
    "        margin=dict(t=60, b=20, l=20, r=20),\n",
    "    )\n",
    ")\n",
    "\n",
    "fig.write_image(\"probability-distribution-of-tunnel-cost-overruns-histogram.svg\")"
   ]
  },
  {
   "cell_type": "code",
   "execution_count": 343,
   "metadata": {},
   "outputs": [
    {
     "data": {
      "application/vnd.plotly.v1+json": {
       "config": {
        "plotlyServerURL": "https://plot.ly"
       },
       "data": [
        {
         "hovertemplate": "CostFactor=%{x}<br>CDF=%{y}<extra></extra>",
         "legendgroup": "",
         "marker": {
          "color": "#1F77B4",
          "symbol": "circle"
         },
         "mode": "markers",
         "name": "",
         "orientation": "v",
         "showlegend": false,
         "type": "scatter",
         "x": [
          0.8336610560124027,
          0.90502575423,
          0.92310522443,
          0.94072654041,
          0.95871147085,
          0.97550486469,
          0.99389256806,
          1.01302428256,
          1.03215599706,
          1.05128771155,
          1.07087494306,
          1.0910087949799998,
          1.1110515435,
          1.1316409124,
          1.1526857984,
          1.1737306843,
          1.1947755703,
          1.2158204562,
          1.2368653422,
          1.2579102281,
          1.2780941869,
          1.3,
          1.3210448859000001,
          1.3420897719,
          1.3631346577999999,
          1.3841795438,
          1.4052244297,
          1.4262693157,
          1.4473142016,
          1.4682679842,
          1.4887662497,
          1.5096118469,
          1.532259014,
          1.5518027962,
          1.5735835173,
          1.5936718175,
          1.6159676233,
          1.637037037,
          1.657615894,
          1.678807947,
          1.699852833,
          1.7208977188999999,
          1.7419426049000002,
          1.7629874908,
          1.7840323767,
          1.8050772627,
          1.8261221486,
          1.8471670346,
          1.8682119204999998,
          1.8892568065000002,
          1.9103016924,
          1.9313465784,
          1.9523914643,
          1.9734363503,
          1.9944812362,
          2.015526122,
          2.036571008,
          2.057615894,
          2.07866078,
          2.099705666,
          2.1207505519999996,
          2.141795438,
          2.1628403240000003,
          2.1838852099999997,
          2.204930096,
          2.2259749820000003,
          2.8
         ],
         "xaxis": "x",
         "y": [
          0,
          0.1107272726999999,
          0.1404040404,
          0.1675396625999999,
          0.1942009569,
          0.2215417331,
          0.2472210526,
          0.275062201,
          0.3020574163,
          0.3293636364,
          0.3565276827999999,
          0.3811118706,
          0.4092977899,
          0.4346585472,
          0.4601609395,
          0.485154415,
          0.5092431492,
          0.5324045237,
          0.5549891257,
          0.5752892562,
          0.597138756,
          0.6169073509999999,
          0.6358503697,
          0.6542844715,
          0.6715311005,
          0.6884384515,
          0.7041017834000001,
          0.7194823836,
          0.7337886037,
          0.7476828435,
          0.7617777778,
          0.775173445,
          0.7876146730000001,
          0.8009186603,
          0.8139486733,
          0.8203691046,
          0.8311004785,
          0.8413397129000001,
          0.848708134,
          0.8588690735,
          0.8664462810000001,
          0.8737973031999999,
          0.8802435842,
          0.8866898652,
          0.8926837756,
          0.8981122227,
          0.9035406699,
          0.9084036538,
          0.9129273597,
          0.917337973,
          0.9210700304,
          0.9249151805,
          0.92830796,
          0.9309090909,
          0.934414963,
          0.9367899087,
          0.9392779469,
          0.9417659852,
          0.943123097,
          0.9452718573,
          0.9464027838,
          0.9479860809,
          0.9494562853,
          0.949569378,
          0.9508133971,
          0.9520574163,
          1
         ],
         "yaxis": "y"
        },
        {
         "mode": "lines",
         "name": "gamma",
         "type": "scatter",
         "x": [
          0.8336610560124027,
          0.8535230655476309,
          0.8733850750828592,
          0.8932470846180874,
          0.9131090941533158,
          0.932971103688544,
          0.9528331132237722,
          0.9726951227590005,
          0.9925571322942287,
          1.012419141829457,
          1.0322811513646852,
          1.0521431608999134,
          1.0720051704351419,
          1.09186717997037,
          1.1117291895055983,
          1.1315911990408265,
          1.1514532085760547,
          1.1713152181112831,
          1.1911772276465113,
          1.2110392371817396,
          1.2309012467169678,
          1.250763256252196,
          1.2706252657874244,
          1.2904872753226526,
          1.3103492848578808,
          1.330211294393109,
          1.3500733039283372,
          1.3699353134635657,
          1.3897973229987937,
          1.409659332534022,
          1.4295213420692503,
          1.4493833516044785,
          1.469245361139707,
          1.489107370674935,
          1.5089693802101634,
          1.5288313897453916,
          1.5486933992806198,
          1.5685554088158482,
          1.5884174183510762,
          1.6082794278863046,
          1.6281414374215328,
          1.648003446956761,
          1.6678654564919895,
          1.6877274660272175,
          1.707589475562446,
          1.727451485097674,
          1.7473134946329023,
          1.7671755041681307,
          1.787037513703359,
          1.8068995232385872,
          1.8267615327738154,
          1.8466235423090436,
          1.866485551844272,
          1.8863475613795002,
          1.9062095709147284,
          1.9260715804499566,
          1.9459335899851848,
          1.9657955995204133,
          1.9856576090556415,
          2.0055196185908697,
          2.025381628126098,
          2.045243637661326,
          2.0651056471965545,
          2.0849676567317825,
          2.104829666267011,
          2.1246916758022394,
          2.1445536853374674,
          2.164415694872696,
          2.184277704407924,
          2.2041397139431522,
          2.2240017234783807,
          2.2438637330136086,
          2.263725742548837,
          2.283587752084065,
          2.3034497616192935,
          2.323311771154522,
          2.34317378068975,
          2.3630357902249783,
          2.3828977997602063,
          2.4027598092954348,
          2.422621818830663,
          2.442483828365891,
          2.4623458379011196,
          2.4822078474363476,
          2.502069856971576,
          2.5219318665068045,
          2.5417938760420324,
          2.561655885577261,
          2.581517895112489,
          2.6013799046477173,
          2.6212419141829457,
          2.6411039237181737,
          2.660965933253402,
          2.68082794278863,
          2.7006899523238586,
          2.720551961859087,
          2.7404139713943154,
          2.7602759809295434,
          2.7801379904647714,
          2.8
         ],
         "y": [
          0.00005420575666622697,
          0.025256850358021346,
          0.05632865265602177,
          0.08911103827587488,
          0.12245025070956982,
          0.15576545235711695,
          0.18871329256728867,
          0.221075123128697,
          0.2527067155420564,
          0.2835119613275528,
          0.3134275949324958,
          0.34241363348111076,
          0.3704470528858688,
          0.3975174223928944,
          0.42362378815154417,
          0.44877238789690904,
          0.47297493832273835,
          0.4962473287596604,
          0.5186086103087005,
          0.5400802043852622,
          0.5606852771666007,
          0.580448241451556,
          0.5993943576989852,
          0.6175494131758065,
          0.6349394632495606,
          0.6515906225616462,
          0.6675288965446469,
          0.6827800457862581,
          0.6973694772867817,
          0.7113221578416411,
          0.7246625456980511,
          0.7374145373540943,
          0.7496014269362227,
          0.7612458760440632,
          0.7723698923150754,
          0.7829948152557911,
          0.7931413081260555,
          0.8028293548590373,
          0.8120782611616522,
          0.8209066590740973,
          0.8293325143787691,
          0.8373731363422119,
          0.8450451893519874,
          0.852364706076422,
          0.8593471018309384,
          0.8660071898820271,
          0.8723591974601481,
          0.8784167822871568,
          0.884193049453179,
          0.8897005685029771,
          0.8949513906133432,
          0.8999570657616248,
          0.9047286598013266,
          0.9092767713744979,
          0.913611548602385,
          0.9177427055060274,
          0.9216795381172502,
          0.9254309402480836,
          0.9290054188931675,
          0.9324111092453289,
          0.9356557893093644,
          0.9387468941032238,
          0.9416915294393788,
          0.9444964852822106,
          0.9471682486798806,
          0.9497130162713738,
          0.952136706371297,
          0.9544449706366119,
          0.9566432053208233,
          0.9587365621222566,
          0.9607299586339855,
          0.962628088403716,
          0.9644354306125399,
          0.966156259381944,
          0.967794652718829,
          0.9693545011085505,
          0.9708395157661848,
          0.9722532365563304,
          0.9735990395918014,
          0.9748801445215666,
          0.9760996215182385,
          0.9772603979753212,
          0.978365264924308,
          0.9794168831815672,
          0.9804177892347811,
          0.9813704008785087,
          0.9822770226082385,
          0.983139850782073,
          0.9839609785589576,
          0.9847424006221307,
          0.9854860176962255,
          0.9861936408662108,
          0.986866995706108,
          0.9875077262251731,
          0.9881173986389837,
          0.9886975049726255,
          0.989249466502928,
          0.9897746370464559,
          0.9902743060997298,
          0.9907497018379121
         ]
        },
        {
         "mode": "lines",
         "name": "weibull_min",
         "type": "scatter",
         "x": [
          0.8336610560124027,
          0.8535230655476309,
          0.8733850750828592,
          0.8932470846180874,
          0.9131090941533158,
          0.932971103688544,
          0.9528331132237722,
          0.9726951227590005,
          0.9925571322942287,
          1.012419141829457,
          1.0322811513646852,
          1.0521431608999134,
          1.0720051704351419,
          1.09186717997037,
          1.1117291895055983,
          1.1315911990408265,
          1.1514532085760547,
          1.1713152181112831,
          1.1911772276465113,
          1.2110392371817396,
          1.2309012467169678,
          1.250763256252196,
          1.2706252657874244,
          1.2904872753226526,
          1.3103492848578808,
          1.330211294393109,
          1.3500733039283372,
          1.3699353134635657,
          1.3897973229987937,
          1.409659332534022,
          1.4295213420692503,
          1.4493833516044785,
          1.469245361139707,
          1.489107370674935,
          1.5089693802101634,
          1.5288313897453916,
          1.5486933992806198,
          1.5685554088158482,
          1.5884174183510762,
          1.6082794278863046,
          1.6281414374215328,
          1.648003446956761,
          1.6678654564919895,
          1.6877274660272175,
          1.707589475562446,
          1.727451485097674,
          1.7473134946329023,
          1.7671755041681307,
          1.787037513703359,
          1.8068995232385872,
          1.8267615327738154,
          1.8466235423090436,
          1.866485551844272,
          1.8863475613795002,
          1.9062095709147284,
          1.9260715804499566,
          1.9459335899851848,
          1.9657955995204133,
          1.9856576090556415,
          2.0055196185908697,
          2.025381628126098,
          2.045243637661326,
          2.0651056471965545,
          2.0849676567317825,
          2.104829666267011,
          2.1246916758022394,
          2.1445536853374674,
          2.164415694872696,
          2.184277704407924,
          2.2041397139431522,
          2.2240017234783807,
          2.2438637330136086,
          2.263725742548837,
          2.283587752084065,
          2.3034497616192935,
          2.323311771154522,
          2.34317378068975,
          2.3630357902249783,
          2.3828977997602063,
          2.4027598092954348,
          2.422621818830663,
          2.442483828365891,
          2.4623458379011196,
          2.4822078474363476,
          2.502069856971576,
          2.5219318665068045,
          2.5417938760420324,
          2.561655885577261,
          2.581517895112489,
          2.6013799046477173,
          2.6212419141829457,
          2.6411039237181737,
          2.660965933253402,
          2.68082794278863,
          2.7006899523238586,
          2.720551961859087,
          2.7404139713943154,
          2.7602759809295434,
          2.7801379904647714,
          2.8
         ],
         "y": [
          0.00001358925838878438,
          0.027126792063430355,
          0.058298480111521715,
          0.09051757207864795,
          0.12299043263560014,
          0.15531304073246144,
          0.18724116026639304,
          0.2186147278411051,
          0.24932449956499747,
          0.27929467274953307,
          0.3084727768830754,
          0.3368233107153909,
          0.36432349267278996,
          0.3909602889952044,
          0.41672825802469526,
          0.4416279396753605,
          0.46566462287139754,
          0.4888473833702691,
          0.5111883202519749,
          0.5327019417774362,
          0.5534046658140284,
          0.5733144096748337,
          0.5924502508085423,
          0.6108321443830149,
          0.6284806870918114,
          0.6454169189016425,
          0.661662156224519,
          0.6772378513240118,
          0.6921654737744077,
          0.7064664105701568,
          0.7201618820908511,
          0.7332728716068443,
          0.7458200663933233,
          0.7578238088288358,
          0.769304056104661,
          0.780280347376509,
          0.7907717773593675,
          0.8007969755070883,
          0.8103740900361477,
          0.8195207761522704,
          0.8282541879226655,
          0.8365909733082437,
          0.8445472719314567,
          0.8521387152081011,
          0.8593804285169354,
          0.8662870351204025,
          0.8728726615840803,
          0.8791509444724397,
          0.8851350381247302,
          0.8908376233378532,
          0.8962709168033595,
          0.9014466811636068,
          0.9063762355679355,
          0.9110704666237326,
          0.9155398396496995,
          0.9197944101496791,
          0.9238438354352417,
          0.9276973863339801,
          0.9313639589282762,
          0.9348520862762674,
          0.9381699500729609,
          0.941325392214998,
          0.9443259262375339,
          0.9471787485961302,
          0.9498907497705211,
          0.952468525170646,
          0.9549183858285051,
          0.9572463688622107,
          0.9594582477011151,
          0.961559542063138,
          0.9635555276774069,
          0.9654512457470873,
          0.9672515121488524,
          0.9689609263668265,
          0.9705838801600637,
          0.9721245659636997,
          0.9735869850248638,
          0.9749749552752659,
          0.9762921189430918,
          0.9775419499074697,
          0.9787277607993047,
          0.9798527098527384,
          0.9809198075118851,
          0.9819319227978144,
          0.9828917894410306,
          0.9838020117849102,
          0.984665070465737,
          0.9854833278751102,
          0.9862590334105922,
          0.986994328520535,
          0.9876912515490567,
          0.988351742387152,
          0.9889776469359108,
          0.9895707213877878,
          0.9901326363318156,
          0.9906649806885975,
          0.991169265480832,
          0.991646927445038,
          0.9920993324900556,
          0.9925277790077834
         ]
        },
        {
         "mode": "lines",
         "name": "weibull_max",
         "type": "scatter",
         "x": [
          0.8336610560124027,
          0.8535230655476309,
          0.8733850750828592,
          0.8932470846180874,
          0.9131090941533158,
          0.932971103688544,
          0.9528331132237722,
          0.9726951227590005,
          0.9925571322942287,
          1.012419141829457,
          1.0322811513646852,
          1.0521431608999134,
          1.0720051704351419,
          1.09186717997037,
          1.1117291895055983,
          1.1315911990408265,
          1.1514532085760547,
          1.1713152181112831,
          1.1911772276465113,
          1.2110392371817396,
          1.2309012467169678,
          1.250763256252196,
          1.2706252657874244,
          1.2904872753226526,
          1.3103492848578808,
          1.330211294393109,
          1.3500733039283372,
          1.3699353134635657,
          1.3897973229987937,
          1.409659332534022,
          1.4295213420692503,
          1.4493833516044785,
          1.469245361139707,
          1.489107370674935,
          1.5089693802101634,
          1.5288313897453916,
          1.5486933992806198,
          1.5685554088158482,
          1.5884174183510762,
          1.6082794278863046,
          1.6281414374215328,
          1.648003446956761,
          1.6678654564919895,
          1.6877274660272175,
          1.707589475562446,
          1.727451485097674,
          1.7473134946329023,
          1.7671755041681307,
          1.787037513703359,
          1.8068995232385872,
          1.8267615327738154,
          1.8466235423090436,
          1.866485551844272,
          1.8863475613795002,
          1.9062095709147284,
          1.9260715804499566,
          1.9459335899851848,
          1.9657955995204133,
          1.9856576090556415,
          2.0055196185908697,
          2.025381628126098,
          2.045243637661326,
          2.0651056471965545,
          2.0849676567317825,
          2.104829666267011,
          2.1246916758022394,
          2.1445536853374674,
          2.164415694872696,
          2.184277704407924,
          2.2041397139431522,
          2.2240017234783807,
          2.2438637330136086,
          2.263725742548837,
          2.283587752084065,
          2.3034497616192935,
          2.323311771154522,
          2.34317378068975,
          2.3630357902249783,
          2.3828977997602063,
          2.4027598092954348,
          2.422621818830663,
          2.442483828365891,
          2.4623458379011196,
          2.4822078474363476,
          2.502069856971576,
          2.5219318665068045,
          2.5417938760420324,
          2.561655885577261,
          2.581517895112489,
          2.6013799046477173,
          2.6212419141829457,
          2.6411039237181737,
          2.660965933253402,
          2.68082794278863,
          2.7006899523238586,
          2.720551961859087,
          2.7404139713943154,
          2.7602759809295434,
          2.7801379904647714,
          2.8
         ],
         "y": [
          0.053307145898893155,
          0.06568744583372903,
          0.07974777662587523,
          0.09548920565871837,
          0.11287997554007058,
          0.1318570801741054,
          0.15232901632171497,
          0.17417944576146047,
          0.19727148290983046,
          0.22145232824373542,
          0.24655799199742237,
          0.27241788893744356,
          0.29885912998878505,
          0.3257103817160331,
          0.3528052097026669,
          0.3799848618859354,
          0.4071004812134816,
          0.4340147647760873,
          0.46060310645913194,
          0.48675427380937475,
          0.512370678376288,
          0.5373683024414395,
          0.5616763443204488,
          0.5852366426023697,
          0.608002933994054,
          0.6299399941976455,
          0.6510227047263936,
          0.6712350815380428,
          0.6905692954056143,
          0.7090247079318207,
          0.7266069412246564,
          0.7433269952364084,
          0.7592004219189603,
          0.7742465623822766,
          0.7884878503575976,
          0.8019491826689419,
          0.8146573560975434,
          0.8266405683751108,
          0.8379279801375861,
          0.8485493341204202,
          0.8585346273114537,
          0.8679138316575409,
          0.8767166588565118,
          0.884972364766655,
          0.8927095892341316,
          0.899956227235249,
          0.9067393275752686,
          0.9130850155902417,
          0.9190184366838808,
          0.924563717736081,
          0.9297439437609455,
          0.9345811474635124,
          0.9390963095713144,
          0.9433093681238317,
          0.9472392350761035,
          0.9509038187770275,
          0.9543200511467302,
          0.9575039184210913,
          0.9604704946073953,
          0.9632339768522383,
          0.9658077220519805,
          0.9682042841923667,
          0.9704354519143148,
          0.9725122859478237,
          0.9744451561167728,
          0.9762437776274898,
          0.9779172464873005,
          0.9794740738635942,
          0.9809222192834506,
          0.9822691225982711,
          0.9835217346334854,
          0.984686546509918,
          0.9857696176119659,
          0.9867766021970981,
          0.9877127746740912,
          0.9885830535529038,
          0.9893920241113777,
          0.9901439598085046,
          0.9908428424835478,
          0.991492381390736,
          0.9920960311119412,
          0.9926570083971474,
          0.9931783079825637,
          0.9936627174326019,
          0.9941128310584929,
          0.994531062958483,
          0.9949196592287483,
          0.9952807093884047,
          0.9956161570658791,
          0.9959278099871074,
          0.9962173493073918,
          0.9964863383266279,
          0.9967362306238702,
          0.996968377648889,
          0.9971840358036299,
          0.9973843730446205,
          0.9975704750397644,
          0.9977433509049012,
          0.9979039385489491,
          0.9980531096541647
         ]
        },
        {
         "mode": "lines",
         "name": "exponweib",
         "type": "scatter",
         "x": [
          0.8336610560124027,
          0.8535230655476309,
          0.8733850750828592,
          0.8932470846180874,
          0.9131090941533158,
          0.932971103688544,
          0.9528331132237722,
          0.9726951227590005,
          0.9925571322942287,
          1.012419141829457,
          1.0322811513646852,
          1.0521431608999134,
          1.0720051704351419,
          1.09186717997037,
          1.1117291895055983,
          1.1315911990408265,
          1.1514532085760547,
          1.1713152181112831,
          1.1911772276465113,
          1.2110392371817396,
          1.2309012467169678,
          1.250763256252196,
          1.2706252657874244,
          1.2904872753226526,
          1.3103492848578808,
          1.330211294393109,
          1.3500733039283372,
          1.3699353134635657,
          1.3897973229987937,
          1.409659332534022,
          1.4295213420692503,
          1.4493833516044785,
          1.469245361139707,
          1.489107370674935,
          1.5089693802101634,
          1.5288313897453916,
          1.5486933992806198,
          1.5685554088158482,
          1.5884174183510762,
          1.6082794278863046,
          1.6281414374215328,
          1.648003446956761,
          1.6678654564919895,
          1.6877274660272175,
          1.707589475562446,
          1.727451485097674,
          1.7473134946329023,
          1.7671755041681307,
          1.787037513703359,
          1.8068995232385872,
          1.8267615327738154,
          1.8466235423090436,
          1.866485551844272,
          1.8863475613795002,
          1.9062095709147284,
          1.9260715804499566,
          1.9459335899851848,
          1.9657955995204133,
          1.9856576090556415,
          2.0055196185908697,
          2.025381628126098,
          2.045243637661326,
          2.0651056471965545,
          2.0849676567317825,
          2.104829666267011,
          2.1246916758022394,
          2.1445536853374674,
          2.164415694872696,
          2.184277704407924,
          2.2041397139431522,
          2.2240017234783807,
          2.2438637330136086,
          2.263725742548837,
          2.283587752084065,
          2.3034497616192935,
          2.323311771154522,
          2.34317378068975,
          2.3630357902249783,
          2.3828977997602063,
          2.4027598092954348,
          2.422621818830663,
          2.442483828365891,
          2.4623458379011196,
          2.4822078474363476,
          2.502069856971576,
          2.5219318665068045,
          2.5417938760420324,
          2.561655885577261,
          2.581517895112489,
          2.6013799046477173,
          2.6212419141829457,
          2.6411039237181737,
          2.660965933253402,
          2.68082794278863,
          2.7006899523238586,
          2.720551961859087,
          2.7404139713943154,
          2.7602759809295434,
          2.7801379904647714,
          2.8
         ],
         "y": [
          0.0000016844137917802443,
          0.028659583446941944,
          0.06027767579447585,
          0.09252534412320106,
          0.12480298549049026,
          0.15680417905757849,
          0.1883423080543902,
          0.2192940233673773,
          0.24957440682935056,
          0.2791240463641271,
          0.30790151043485164,
          0.3358785979851063,
          0.3630371519493192,
          0.389366817676958,
          0.4148634051961187,
          0.4395276553694465,
          0.46336428667829604,
          0.48638124337452115,
          0.5085890921715538,
          0.5300005311546525,
          0.55062998525319,
          0.5704932697108528,
          0.5896073078320049,
          0.607989892665707,
          0.625659484702318,
          0.6426350394118339,
          0.6589358597502513,
          0.6745814697344624,
          0.68959150592852,
          0.7039856242573238,
          0.7177834200118695,
          0.7310043592645693,
          0.7436677201963494,
          0.755792543065891,
          0.7673975877376937,
          0.7785012978388016,
          0.789121770740989,
          0.7992767326712256,
          0.8089835183424485,
          0.8182590545722197,
          0.82711984742124,
          0.8355819724389094,
          0.843661067650718,
          0.8513723289634983,
          0.8587305077004913,
          0.8657499100095702,
          0.8724443979155674,
          0.878827391811939,
          0.88491187420852,
          0.8907103945711977,
          0.8962350751063133,
          0.9014976173577544,
          0.9065093094982593,
          0.9112810342086007,
          0.9158232770492369,
          0.9201461352388359,
          0.9242593267629367,
          0.9281721997439967,
          0.9318937420112974,
          0.9354325908157111,
          0.9387970426402443,
          0.9419950630626335,
          0.945034296631122,
          0.9479220767189588,
          0.950665435327151,
          0.9532711128086312,
          0.9557455674902955,
          0.9580949851723465,
          0.9603252884870915,
          0.9624421461018003,
          0.9644509817524491,
          0.9663569830972004,
          0.968165110380286,
          0.9698801048986144,
          0.971506497264911,
          0.9730486154625433,
          0.9745105926883925,
          0.9758963749812205,
          0.9772097286339554,
          0.9784542473891928,
          0.9796333594179881,
          0.9807503340827101,
          0.9818082884853402,
          0.9828101938031452,
          0.9837588814141317,
          0.984657048815107,
          0.9855072653355377,
          0.9863119776507088,
          0.9870735150979596,
          0.9877940947999974,
          0.9884758265994837,
          0.9891207178092419,
          0.9897306777825646,
          0.9903075223081943,
          0.9908529778346269,
          0.9913686855284363,
          0.9918562051713472,
          0.9923170189008012,
          0.992752534798746,
          0.9931640903333707
         ]
        }
       ],
       "layout": {
        "height": 500,
        "legend": {
         "tracegroupgap": 0,
         "x": 0.01,
         "xanchor": "left",
         "y": 0.99,
         "yanchor": "top"
        },
        "margin": {
         "b": 20,
         "l": 20,
         "r": 20,
         "t": 60
        },
        "template": {
         "data": {
          "bar": [
           {
            "error_x": {
             "color": "rgb(36,36,36)"
            },
            "error_y": {
             "color": "rgb(36,36,36)"
            },
            "marker": {
             "line": {
              "color": "white",
              "width": 0.5
             },
             "pattern": {
              "fillmode": "overlay",
              "size": 10,
              "solidity": 0.2
             }
            },
            "type": "bar"
           }
          ],
          "barpolar": [
           {
            "marker": {
             "line": {
              "color": "white",
              "width": 0.5
             },
             "pattern": {
              "fillmode": "overlay",
              "size": 10,
              "solidity": 0.2
             }
            },
            "type": "barpolar"
           }
          ],
          "carpet": [
           {
            "aaxis": {
             "endlinecolor": "rgb(36,36,36)",
             "gridcolor": "white",
             "linecolor": "white",
             "minorgridcolor": "white",
             "startlinecolor": "rgb(36,36,36)"
            },
            "baxis": {
             "endlinecolor": "rgb(36,36,36)",
             "gridcolor": "white",
             "linecolor": "white",
             "minorgridcolor": "white",
             "startlinecolor": "rgb(36,36,36)"
            },
            "type": "carpet"
           }
          ],
          "choropleth": [
           {
            "colorbar": {
             "outlinewidth": 1,
             "tickcolor": "rgb(36,36,36)",
             "ticks": "outside"
            },
            "type": "choropleth"
           }
          ],
          "contour": [
           {
            "colorbar": {
             "outlinewidth": 1,
             "tickcolor": "rgb(36,36,36)",
             "ticks": "outside"
            },
            "colorscale": [
             [
              0,
              "#440154"
             ],
             [
              0.1111111111111111,
              "#482878"
             ],
             [
              0.2222222222222222,
              "#3e4989"
             ],
             [
              0.3333333333333333,
              "#31688e"
             ],
             [
              0.4444444444444444,
              "#26828e"
             ],
             [
              0.5555555555555556,
              "#1f9e89"
             ],
             [
              0.6666666666666666,
              "#35b779"
             ],
             [
              0.7777777777777778,
              "#6ece58"
             ],
             [
              0.8888888888888888,
              "#b5de2b"
             ],
             [
              1,
              "#fde725"
             ]
            ],
            "type": "contour"
           }
          ],
          "contourcarpet": [
           {
            "colorbar": {
             "outlinewidth": 1,
             "tickcolor": "rgb(36,36,36)",
             "ticks": "outside"
            },
            "type": "contourcarpet"
           }
          ],
          "heatmap": [
           {
            "colorbar": {
             "outlinewidth": 1,
             "tickcolor": "rgb(36,36,36)",
             "ticks": "outside"
            },
            "colorscale": [
             [
              0,
              "#440154"
             ],
             [
              0.1111111111111111,
              "#482878"
             ],
             [
              0.2222222222222222,
              "#3e4989"
             ],
             [
              0.3333333333333333,
              "#31688e"
             ],
             [
              0.4444444444444444,
              "#26828e"
             ],
             [
              0.5555555555555556,
              "#1f9e89"
             ],
             [
              0.6666666666666666,
              "#35b779"
             ],
             [
              0.7777777777777778,
              "#6ece58"
             ],
             [
              0.8888888888888888,
              "#b5de2b"
             ],
             [
              1,
              "#fde725"
             ]
            ],
            "type": "heatmap"
           }
          ],
          "heatmapgl": [
           {
            "colorbar": {
             "outlinewidth": 1,
             "tickcolor": "rgb(36,36,36)",
             "ticks": "outside"
            },
            "colorscale": [
             [
              0,
              "#440154"
             ],
             [
              0.1111111111111111,
              "#482878"
             ],
             [
              0.2222222222222222,
              "#3e4989"
             ],
             [
              0.3333333333333333,
              "#31688e"
             ],
             [
              0.4444444444444444,
              "#26828e"
             ],
             [
              0.5555555555555556,
              "#1f9e89"
             ],
             [
              0.6666666666666666,
              "#35b779"
             ],
             [
              0.7777777777777778,
              "#6ece58"
             ],
             [
              0.8888888888888888,
              "#b5de2b"
             ],
             [
              1,
              "#fde725"
             ]
            ],
            "type": "heatmapgl"
           }
          ],
          "histogram": [
           {
            "marker": {
             "line": {
              "color": "white",
              "width": 0.6
             }
            },
            "type": "histogram"
           }
          ],
          "histogram2d": [
           {
            "colorbar": {
             "outlinewidth": 1,
             "tickcolor": "rgb(36,36,36)",
             "ticks": "outside"
            },
            "colorscale": [
             [
              0,
              "#440154"
             ],
             [
              0.1111111111111111,
              "#482878"
             ],
             [
              0.2222222222222222,
              "#3e4989"
             ],
             [
              0.3333333333333333,
              "#31688e"
             ],
             [
              0.4444444444444444,
              "#26828e"
             ],
             [
              0.5555555555555556,
              "#1f9e89"
             ],
             [
              0.6666666666666666,
              "#35b779"
             ],
             [
              0.7777777777777778,
              "#6ece58"
             ],
             [
              0.8888888888888888,
              "#b5de2b"
             ],
             [
              1,
              "#fde725"
             ]
            ],
            "type": "histogram2d"
           }
          ],
          "histogram2dcontour": [
           {
            "colorbar": {
             "outlinewidth": 1,
             "tickcolor": "rgb(36,36,36)",
             "ticks": "outside"
            },
            "colorscale": [
             [
              0,
              "#440154"
             ],
             [
              0.1111111111111111,
              "#482878"
             ],
             [
              0.2222222222222222,
              "#3e4989"
             ],
             [
              0.3333333333333333,
              "#31688e"
             ],
             [
              0.4444444444444444,
              "#26828e"
             ],
             [
              0.5555555555555556,
              "#1f9e89"
             ],
             [
              0.6666666666666666,
              "#35b779"
             ],
             [
              0.7777777777777778,
              "#6ece58"
             ],
             [
              0.8888888888888888,
              "#b5de2b"
             ],
             [
              1,
              "#fde725"
             ]
            ],
            "type": "histogram2dcontour"
           }
          ],
          "mesh3d": [
           {
            "colorbar": {
             "outlinewidth": 1,
             "tickcolor": "rgb(36,36,36)",
             "ticks": "outside"
            },
            "type": "mesh3d"
           }
          ],
          "parcoords": [
           {
            "line": {
             "colorbar": {
              "outlinewidth": 1,
              "tickcolor": "rgb(36,36,36)",
              "ticks": "outside"
             }
            },
            "type": "parcoords"
           }
          ],
          "pie": [
           {
            "automargin": true,
            "type": "pie"
           }
          ],
          "scatter": [
           {
            "fillpattern": {
             "fillmode": "overlay",
             "size": 10,
             "solidity": 0.2
            },
            "type": "scatter"
           }
          ],
          "scatter3d": [
           {
            "line": {
             "colorbar": {
              "outlinewidth": 1,
              "tickcolor": "rgb(36,36,36)",
              "ticks": "outside"
             }
            },
            "marker": {
             "colorbar": {
              "outlinewidth": 1,
              "tickcolor": "rgb(36,36,36)",
              "ticks": "outside"
             }
            },
            "type": "scatter3d"
           }
          ],
          "scattercarpet": [
           {
            "marker": {
             "colorbar": {
              "outlinewidth": 1,
              "tickcolor": "rgb(36,36,36)",
              "ticks": "outside"
             }
            },
            "type": "scattercarpet"
           }
          ],
          "scattergeo": [
           {
            "marker": {
             "colorbar": {
              "outlinewidth": 1,
              "tickcolor": "rgb(36,36,36)",
              "ticks": "outside"
             }
            },
            "type": "scattergeo"
           }
          ],
          "scattergl": [
           {
            "marker": {
             "colorbar": {
              "outlinewidth": 1,
              "tickcolor": "rgb(36,36,36)",
              "ticks": "outside"
             }
            },
            "type": "scattergl"
           }
          ],
          "scattermapbox": [
           {
            "marker": {
             "colorbar": {
              "outlinewidth": 1,
              "tickcolor": "rgb(36,36,36)",
              "ticks": "outside"
             }
            },
            "type": "scattermapbox"
           }
          ],
          "scatterpolar": [
           {
            "marker": {
             "colorbar": {
              "outlinewidth": 1,
              "tickcolor": "rgb(36,36,36)",
              "ticks": "outside"
             }
            },
            "type": "scatterpolar"
           }
          ],
          "scatterpolargl": [
           {
            "marker": {
             "colorbar": {
              "outlinewidth": 1,
              "tickcolor": "rgb(36,36,36)",
              "ticks": "outside"
             }
            },
            "type": "scatterpolargl"
           }
          ],
          "scatterternary": [
           {
            "marker": {
             "colorbar": {
              "outlinewidth": 1,
              "tickcolor": "rgb(36,36,36)",
              "ticks": "outside"
             }
            },
            "type": "scatterternary"
           }
          ],
          "surface": [
           {
            "colorbar": {
             "outlinewidth": 1,
             "tickcolor": "rgb(36,36,36)",
             "ticks": "outside"
            },
            "colorscale": [
             [
              0,
              "#440154"
             ],
             [
              0.1111111111111111,
              "#482878"
             ],
             [
              0.2222222222222222,
              "#3e4989"
             ],
             [
              0.3333333333333333,
              "#31688e"
             ],
             [
              0.4444444444444444,
              "#26828e"
             ],
             [
              0.5555555555555556,
              "#1f9e89"
             ],
             [
              0.6666666666666666,
              "#35b779"
             ],
             [
              0.7777777777777778,
              "#6ece58"
             ],
             [
              0.8888888888888888,
              "#b5de2b"
             ],
             [
              1,
              "#fde725"
             ]
            ],
            "type": "surface"
           }
          ],
          "table": [
           {
            "cells": {
             "fill": {
              "color": "rgb(237,237,237)"
             },
             "line": {
              "color": "white"
             }
            },
            "header": {
             "fill": {
              "color": "rgb(217,217,217)"
             },
             "line": {
              "color": "white"
             }
            },
            "type": "table"
           }
          ]
         },
         "layout": {
          "annotationdefaults": {
           "arrowhead": 0,
           "arrowwidth": 1
          },
          "autotypenumbers": "strict",
          "coloraxis": {
           "colorbar": {
            "outlinewidth": 1,
            "tickcolor": "rgb(36,36,36)",
            "ticks": "outside"
           }
          },
          "colorscale": {
           "diverging": [
            [
             0,
             "rgb(103,0,31)"
            ],
            [
             0.1,
             "rgb(178,24,43)"
            ],
            [
             0.2,
             "rgb(214,96,77)"
            ],
            [
             0.3,
             "rgb(244,165,130)"
            ],
            [
             0.4,
             "rgb(253,219,199)"
            ],
            [
             0.5,
             "rgb(247,247,247)"
            ],
            [
             0.6,
             "rgb(209,229,240)"
            ],
            [
             0.7,
             "rgb(146,197,222)"
            ],
            [
             0.8,
             "rgb(67,147,195)"
            ],
            [
             0.9,
             "rgb(33,102,172)"
            ],
            [
             1,
             "rgb(5,48,97)"
            ]
           ],
           "sequential": [
            [
             0,
             "#440154"
            ],
            [
             0.1111111111111111,
             "#482878"
            ],
            [
             0.2222222222222222,
             "#3e4989"
            ],
            [
             0.3333333333333333,
             "#31688e"
            ],
            [
             0.4444444444444444,
             "#26828e"
            ],
            [
             0.5555555555555556,
             "#1f9e89"
            ],
            [
             0.6666666666666666,
             "#35b779"
            ],
            [
             0.7777777777777778,
             "#6ece58"
            ],
            [
             0.8888888888888888,
             "#b5de2b"
            ],
            [
             1,
             "#fde725"
            ]
           ],
           "sequentialminus": [
            [
             0,
             "#440154"
            ],
            [
             0.1111111111111111,
             "#482878"
            ],
            [
             0.2222222222222222,
             "#3e4989"
            ],
            [
             0.3333333333333333,
             "#31688e"
            ],
            [
             0.4444444444444444,
             "#26828e"
            ],
            [
             0.5555555555555556,
             "#1f9e89"
            ],
            [
             0.6666666666666666,
             "#35b779"
            ],
            [
             0.7777777777777778,
             "#6ece58"
            ],
            [
             0.8888888888888888,
             "#b5de2b"
            ],
            [
             1,
             "#fde725"
            ]
           ]
          },
          "colorway": [
           "#1F77B4",
           "#FF7F0E",
           "#2CA02C",
           "#D62728",
           "#9467BD",
           "#8C564B",
           "#E377C2",
           "#7F7F7F",
           "#BCBD22",
           "#17BECF"
          ],
          "font": {
           "color": "black",
           "family": "arial"
          },
          "geo": {
           "bgcolor": "white",
           "lakecolor": "white",
           "landcolor": "white",
           "showlakes": true,
           "showland": true,
           "subunitcolor": "white"
          },
          "hoverlabel": {
           "align": "left"
          },
          "hovermode": "closest",
          "mapbox": {
           "style": "light"
          },
          "paper_bgcolor": "white",
          "plot_bgcolor": "white",
          "polar": {
           "angularaxis": {
            "gridcolor": "rgb(232,232,232)",
            "linecolor": "rgb(36,36,36)",
            "showgrid": false,
            "showline": true,
            "ticks": "outside"
           },
           "bgcolor": "white",
           "radialaxis": {
            "gridcolor": "rgb(232,232,232)",
            "linecolor": "rgb(36,36,36)",
            "showgrid": false,
            "showline": true,
            "ticks": "outside"
           }
          },
          "scene": {
           "xaxis": {
            "backgroundcolor": "white",
            "gridcolor": "rgb(232,232,232)",
            "gridwidth": 2,
            "linecolor": "rgb(36,36,36)",
            "showbackground": true,
            "showgrid": false,
            "showline": true,
            "ticks": "outside",
            "zeroline": false,
            "zerolinecolor": "rgb(36,36,36)"
           },
           "yaxis": {
            "backgroundcolor": "white",
            "gridcolor": "rgb(232,232,232)",
            "gridwidth": 2,
            "linecolor": "rgb(36,36,36)",
            "showbackground": true,
            "showgrid": false,
            "showline": true,
            "ticks": "outside",
            "zeroline": false,
            "zerolinecolor": "rgb(36,36,36)"
           },
           "zaxis": {
            "backgroundcolor": "white",
            "gridcolor": "rgb(232,232,232)",
            "gridwidth": 2,
            "linecolor": "rgb(36,36,36)",
            "showbackground": true,
            "showgrid": false,
            "showline": true,
            "ticks": "outside",
            "zeroline": false,
            "zerolinecolor": "rgb(36,36,36)"
           }
          },
          "shapedefaults": {
           "line": {
            "color": "black",
            "width": 1
           },
           "opacity": 1
          },
          "ternary": {
           "aaxis": {
            "gridcolor": "rgb(232,232,232)",
            "linecolor": "rgb(36,36,36)",
            "showgrid": false,
            "showline": true,
            "ticks": "outside"
           },
           "baxis": {
            "gridcolor": "rgb(232,232,232)",
            "linecolor": "rgb(36,36,36)",
            "showgrid": false,
            "showline": true,
            "ticks": "outside"
           },
           "bgcolor": "white",
           "caxis": {
            "gridcolor": "rgb(232,232,232)",
            "linecolor": "rgb(36,36,36)",
            "showgrid": false,
            "showline": true,
            "ticks": "outside"
           }
          },
          "title": {
           "x": 0.05
          },
          "xaxis": {
           "automargin": true,
           "gridcolor": "rgb(232,232,232)",
           "linecolor": "rgb(36,36,36)",
           "mirror": true,
           "showgrid": true,
           "showline": true,
           "ticks": "outside",
           "title": {
            "standoff": 5
           },
           "zeroline": false,
           "zerolinecolor": "rgb(36,36,36)"
          },
          "yaxis": {
           "automargin": true,
           "gridcolor": "rgb(232,232,232)",
           "linecolor": "rgb(36,36,36)",
           "mirror": true,
           "showgrid": true,
           "showline": true,
           "ticks": "outside",
           "title": {
            "standoff": 5
           },
           "zeroline": false,
           "zerolinecolor": "rgb(36,36,36)"
          }
         }
        },
        "title": {
         "text": "<b>Distribution of Cost Factors</b><br><i>Fixed Links (bridges and tunnel)</i>"
        },
        "width": 800,
        "xaxis": {
         "anchor": "y",
         "domain": [
          0,
          1
         ],
         "dtick": 0.2,
         "range": [
          0.8,
          2.8
         ],
         "title": {
          "text": "Cost factor"
         }
        },
        "yaxis": {
         "anchor": "x",
         "domain": [
          0,
          1
         ],
         "dtick": 0.2,
         "range": [
          0,
          1
         ],
         "title": {
          "text": "Share of projects with given<br>cost factor"
         }
        }
       }
      }
     },
     "metadata": {},
     "output_type": "display_data"
    }
   ],
   "source": [
    "# Define the range of x-values to use in the distributions\n",
    "cdf_x = np.linspace(df[\"CostFactor\"].min(), df[\"CostFactor\"].max(), 100)\n",
    "\n",
    "# Fit the data to 5 different distributions using the scipy library\n",
    "# For example: `stats.gamma.fit()` fits the data and provides the associated\n",
    "# parameters for the `gamma` distribution function. `stats.gamma.cdf` uses the\n",
    "# parameters and the x-range to calculate an array that represents the CDF\n",
    "cdf_gamma = stats.gamma.cdf(cdf_x, *stats.gamma.fit(random_variables))\n",
    "cdf_weibull_min = stats.weibull_min.cdf(cdf_x, *stats.weibull_min.fit(random_variables))\n",
    "cdf_weibull_max = stats.weibull_max.cdf(cdf_x, *stats.weibull_max.fit(random_variables))\n",
    "cdf_exponweib = stats.exponweib.cdf(cdf_x, *stats.exponweib.fit(random_variables))\n",
    "\n",
    "# Add the CDFs to the original scatter plot\n",
    "for name, trace in {\n",
    "    \"gamma\": cdf_gamma,\n",
    "    \"weibull_min\": cdf_weibull_min,\n",
    "    \"weibull_max\": cdf_weibull_max,\n",
    "    \"exponweib\": cdf_exponweib,\n",
    "}.items():\n",
    "    fig_cdf.add_trace(go.Scatter(x=cdf_x, y=trace, name=name, mode=\"lines\"))\n",
    "\n",
    "fig_cdf.update(layout=dict(legend=dict(yanchor=\"top\", y=0.99, xanchor=\"left\", x=0.01)))\n",
    "\n",
    "fig_cdf.write_image(\"probability-distribution-of-tunnel-cost-overruns-cdf-dists.svg\")\n",
    "fig_cdf.show()"
   ]
  },
  {
   "cell_type": "code",
   "execution_count": 344,
   "metadata": {},
   "outputs": [
    {
     "data": {
      "application/vnd.plotly.v1+json": {
       "config": {
        "plotlyServerURL": "https://plot.ly"
       },
       "data": [
        {
         "hovertemplate": "variable=Lower<br>CI=%{x}<br>value=%{y}<extra></extra>",
         "legendgroup": "Lower",
         "line": {
          "color": "#1F77B4",
          "dash": "solid"
         },
         "marker": {
          "symbol": "circle"
         },
         "mode": "lines",
         "name": "Lower",
         "orientation": "v",
         "showlegend": true,
         "type": "scatter",
         "x": [
          0.5,
          0.51,
          0.52,
          0.53,
          0.54,
          0.55,
          0.56,
          0.5700000000000001,
          0.58,
          0.59,
          0.6,
          0.61,
          0.62,
          0.63,
          0.64,
          0.65,
          0.66,
          0.67,
          0.6799999999999999,
          0.69,
          0.7,
          0.71,
          0.72,
          0.73,
          0.74,
          0.75,
          0.76,
          0.77,
          0.78,
          0.79,
          0.8,
          0.81,
          0.8200000000000001,
          0.8300000000000001,
          0.8400000000000001,
          0.8500000000000001,
          0.86,
          0.87,
          0.88,
          0.89,
          0.9,
          0.91,
          0.9199999999999999,
          0.9299999999999999,
          0.94,
          0.95,
          0.96,
          0.97,
          0.98,
          0.99
         ],
         "xaxis": "x",
         "y": [
          0.9908377270612935,
          0.9876717578271746,
          0.9845187255894743,
          0.981378254102927,
          0.9782499645083949,
          0.975133474703151,
          0.9720283986661409,
          0.9689343457322328,
          0.9658509198086334,
          0.9627777185256448,
          0.9597143323127804,
          0.9566603433898664,
          0.9536153246611241,
          0.9505788384982715,
          0.9475504353963448,
          0.9445296524831306,
          0.9415160118597092,
          0.9385090187454854,
          0.9355081593960646,
          0.9325128987561638,
          0.9295226778021416,
          0.9265369105192784,
          0.9235549804471326,
          0.9205762367114178,
          0.9175999894419781,
          0.9146255044523013,
          0.91165199702486,
          0.908678624606015,
          0.905704478160845,
          0.9027285718672962,
          0.8997498307335337,
          0.8967670755921696,
          0.8937790047450618,
          0.890784171279702,
          0.8877809547174691,
          0.8847675251292179,
          0.8817417970741335,
          0.87870136953246,
          0.8756434461522384,
          0.8725647271532778,
          0.8694612592745331,
          0.8663282215592777,
          0.8631596091612602,
          0.8599477473414925,
          0.8566825060013319,
          0.8533499462458822,
          0.8499297815754859,
          0.8463900144596939,
          0.8426733553568769,
          0.8386496371159167
         ],
         "yaxis": "y"
        },
        {
         "hovertemplate": "variable=Upper<br>CI=%{x}<br>value=%{y}<extra></extra>",
         "legendgroup": "Upper",
         "line": {
          "color": "#FF7F0E",
          "dash": "solid"
         },
         "marker": {
          "symbol": "circle"
         },
         "mode": "lines",
         "name": "Upper",
         "orientation": "v",
         "showlegend": true,
         "type": "scatter",
         "x": [
          0.5,
          0.51,
          0.52,
          0.53,
          0.54,
          0.55,
          0.56,
          0.5700000000000001,
          0.58,
          0.59,
          0.6,
          0.61,
          0.62,
          0.63,
          0.64,
          0.65,
          0.66,
          0.67,
          0.6799999999999999,
          0.69,
          0.7,
          0.71,
          0.72,
          0.73,
          0.74,
          0.75,
          0.76,
          0.77,
          0.78,
          0.79,
          0.8,
          0.81,
          0.8200000000000001,
          0.8300000000000001,
          0.8400000000000001,
          0.8500000000000001,
          0.86,
          0.87,
          0.88,
          0.89,
          0.9,
          0.91,
          0.9199999999999999,
          0.9299999999999999,
          0.94,
          0.95,
          0.96,
          0.97,
          0.98,
          0.99
         ],
         "xaxis": "x",
         "y": [
          1.4699104496721964,
          1.4783411938957474,
          1.4869384306029898,
          1.4957091866516972,
          1.5046609402861613,
          1.5138016607678217,
          1.5231398524529665,
          1.532684603930408,
          1.5424456429329045,
          1.5524333978564195,
          1.5626590668654146,
          1.5731346957355998,
          1.5838732657948333,
          1.5948887935767422,
          1.6061964441111003,
          1.6178126601542566,
          1.6297553101300841,
          1.6420438581305326,
          1.6546995600460803,
          1.6677456908005657,
          1.681207808806299,
          1.6951140652063565,
          1.7094955673291825,
          1.7243868081795752,
          1.7398261769133887,
          1.7558565693467192,
          1.7725261229939884,
          1.7898891084271584,
          1.8080070186421895,
          1.8269499116965353,
          1.8467980807622042,
          1.8676441523724874,
          1.8895957518044013,
          1.9127789301717302,
          1.9373426304517722,
          1.9634645950514997,
          1.9913593122265527,
          2.021288909049377,
          2.0535784082511284,
          2.0886376316984476,
          2.1269935609722017,
          2.1693397866114434,
          2.216615171536675,
          2.2701352578873295,
          2.3318255401091177,
          2.404669100929038,
          2.493659522877665,
          2.6081494308665305,
          2.7691120198614345,
          3.043366419977341
         ],
         "yaxis": "y"
        },
        {
         "hovertemplate": "variable=Expected Value<br>CI=%{x}<br>value=%{y}<extra></extra>",
         "legendgroup": "Expected Value",
         "line": {
          "color": "#2CA02C",
          "dash": "solid"
         },
         "marker": {
          "symbol": "circle"
         },
         "mode": "lines",
         "name": "Expected Value",
         "orientation": "v",
         "showlegend": true,
         "type": "scatter",
         "x": [
          0.5,
          0.51,
          0.52,
          0.53,
          0.54,
          0.55,
          0.56,
          0.5700000000000001,
          0.58,
          0.59,
          0.6,
          0.61,
          0.62,
          0.63,
          0.64,
          0.65,
          0.66,
          0.67,
          0.6799999999999999,
          0.69,
          0.7,
          0.71,
          0.72,
          0.73,
          0.74,
          0.75,
          0.76,
          0.77,
          0.78,
          0.79,
          0.8,
          0.81,
          0.8200000000000001,
          0.8300000000000001,
          0.8400000000000001,
          0.8500000000000001,
          0.86,
          0.87,
          0.88,
          0.89,
          0.9,
          0.91,
          0.9199999999999999,
          0.9299999999999999,
          0.94,
          0.95,
          0.96,
          0.97,
          0.98,
          0.99
         ],
         "xaxis": "x",
         "y": [
          1.2941172161276715,
          1.2941172161276715,
          1.2941172161276715,
          1.2941172161276715,
          1.2941172161276715,
          1.2941172161276715,
          1.2941172161276715,
          1.2941172161276715,
          1.2941172161276715,
          1.2941172161276715,
          1.2941172161276715,
          1.2941172161276715,
          1.2941172161276715,
          1.2941172161276715,
          1.2941172161276715,
          1.2941172161276715,
          1.2941172161276715,
          1.2941172161276715,
          1.2941172161276715,
          1.2941172161276715,
          1.2941172161276715,
          1.2941172161276715,
          1.2941172161276715,
          1.2941172161276715,
          1.2941172161276715,
          1.2941172161276715,
          1.2941172161276715,
          1.2941172161276715,
          1.2941172161276715,
          1.2941172161276715,
          1.2941172161276715,
          1.2941172161276715,
          1.2941172161276715,
          1.2941172161276715,
          1.2941172161276715,
          1.2941172161276715,
          1.2941172161276715,
          1.2941172161276715,
          1.2941172161276715,
          1.2941172161276715,
          1.2941172161276715,
          1.2941172161276715,
          1.2941172161276715,
          1.2941172161276715,
          1.2941172161276715,
          1.2941172161276715,
          1.2941172161276715,
          1.2941172161276715,
          1.2941172161276715,
          1.2941172161276715
         ],
         "yaxis": "y"
        }
       ],
       "layout": {
        "annotations": [
         {
          "showarrow": false,
          "text": "<b>Expected Value = 1.29</b>",
          "x": 0.75,
          "xref": "paper",
          "y": 0.25,
          "yref": "paper"
         }
        ],
        "height": 500,
        "legend": {
         "title": {
          "text": "Bound"
         },
         "tracegroupgap": 0,
         "x": 0.01,
         "xanchor": "left",
         "y": 0.99,
         "yanchor": "top"
        },
        "margin": {
         "b": 20,
         "l": 20,
         "r": 20,
         "t": 60
        },
        "template": {
         "data": {
          "bar": [
           {
            "error_x": {
             "color": "rgb(36,36,36)"
            },
            "error_y": {
             "color": "rgb(36,36,36)"
            },
            "marker": {
             "line": {
              "color": "white",
              "width": 0.5
             },
             "pattern": {
              "fillmode": "overlay",
              "size": 10,
              "solidity": 0.2
             }
            },
            "type": "bar"
           }
          ],
          "barpolar": [
           {
            "marker": {
             "line": {
              "color": "white",
              "width": 0.5
             },
             "pattern": {
              "fillmode": "overlay",
              "size": 10,
              "solidity": 0.2
             }
            },
            "type": "barpolar"
           }
          ],
          "carpet": [
           {
            "aaxis": {
             "endlinecolor": "rgb(36,36,36)",
             "gridcolor": "white",
             "linecolor": "white",
             "minorgridcolor": "white",
             "startlinecolor": "rgb(36,36,36)"
            },
            "baxis": {
             "endlinecolor": "rgb(36,36,36)",
             "gridcolor": "white",
             "linecolor": "white",
             "minorgridcolor": "white",
             "startlinecolor": "rgb(36,36,36)"
            },
            "type": "carpet"
           }
          ],
          "choropleth": [
           {
            "colorbar": {
             "outlinewidth": 1,
             "tickcolor": "rgb(36,36,36)",
             "ticks": "outside"
            },
            "type": "choropleth"
           }
          ],
          "contour": [
           {
            "colorbar": {
             "outlinewidth": 1,
             "tickcolor": "rgb(36,36,36)",
             "ticks": "outside"
            },
            "colorscale": [
             [
              0,
              "#440154"
             ],
             [
              0.1111111111111111,
              "#482878"
             ],
             [
              0.2222222222222222,
              "#3e4989"
             ],
             [
              0.3333333333333333,
              "#31688e"
             ],
             [
              0.4444444444444444,
              "#26828e"
             ],
             [
              0.5555555555555556,
              "#1f9e89"
             ],
             [
              0.6666666666666666,
              "#35b779"
             ],
             [
              0.7777777777777778,
              "#6ece58"
             ],
             [
              0.8888888888888888,
              "#b5de2b"
             ],
             [
              1,
              "#fde725"
             ]
            ],
            "type": "contour"
           }
          ],
          "contourcarpet": [
           {
            "colorbar": {
             "outlinewidth": 1,
             "tickcolor": "rgb(36,36,36)",
             "ticks": "outside"
            },
            "type": "contourcarpet"
           }
          ],
          "heatmap": [
           {
            "colorbar": {
             "outlinewidth": 1,
             "tickcolor": "rgb(36,36,36)",
             "ticks": "outside"
            },
            "colorscale": [
             [
              0,
              "#440154"
             ],
             [
              0.1111111111111111,
              "#482878"
             ],
             [
              0.2222222222222222,
              "#3e4989"
             ],
             [
              0.3333333333333333,
              "#31688e"
             ],
             [
              0.4444444444444444,
              "#26828e"
             ],
             [
              0.5555555555555556,
              "#1f9e89"
             ],
             [
              0.6666666666666666,
              "#35b779"
             ],
             [
              0.7777777777777778,
              "#6ece58"
             ],
             [
              0.8888888888888888,
              "#b5de2b"
             ],
             [
              1,
              "#fde725"
             ]
            ],
            "type": "heatmap"
           }
          ],
          "heatmapgl": [
           {
            "colorbar": {
             "outlinewidth": 1,
             "tickcolor": "rgb(36,36,36)",
             "ticks": "outside"
            },
            "colorscale": [
             [
              0,
              "#440154"
             ],
             [
              0.1111111111111111,
              "#482878"
             ],
             [
              0.2222222222222222,
              "#3e4989"
             ],
             [
              0.3333333333333333,
              "#31688e"
             ],
             [
              0.4444444444444444,
              "#26828e"
             ],
             [
              0.5555555555555556,
              "#1f9e89"
             ],
             [
              0.6666666666666666,
              "#35b779"
             ],
             [
              0.7777777777777778,
              "#6ece58"
             ],
             [
              0.8888888888888888,
              "#b5de2b"
             ],
             [
              1,
              "#fde725"
             ]
            ],
            "type": "heatmapgl"
           }
          ],
          "histogram": [
           {
            "marker": {
             "line": {
              "color": "white",
              "width": 0.6
             }
            },
            "type": "histogram"
           }
          ],
          "histogram2d": [
           {
            "colorbar": {
             "outlinewidth": 1,
             "tickcolor": "rgb(36,36,36)",
             "ticks": "outside"
            },
            "colorscale": [
             [
              0,
              "#440154"
             ],
             [
              0.1111111111111111,
              "#482878"
             ],
             [
              0.2222222222222222,
              "#3e4989"
             ],
             [
              0.3333333333333333,
              "#31688e"
             ],
             [
              0.4444444444444444,
              "#26828e"
             ],
             [
              0.5555555555555556,
              "#1f9e89"
             ],
             [
              0.6666666666666666,
              "#35b779"
             ],
             [
              0.7777777777777778,
              "#6ece58"
             ],
             [
              0.8888888888888888,
              "#b5de2b"
             ],
             [
              1,
              "#fde725"
             ]
            ],
            "type": "histogram2d"
           }
          ],
          "histogram2dcontour": [
           {
            "colorbar": {
             "outlinewidth": 1,
             "tickcolor": "rgb(36,36,36)",
             "ticks": "outside"
            },
            "colorscale": [
             [
              0,
              "#440154"
             ],
             [
              0.1111111111111111,
              "#482878"
             ],
             [
              0.2222222222222222,
              "#3e4989"
             ],
             [
              0.3333333333333333,
              "#31688e"
             ],
             [
              0.4444444444444444,
              "#26828e"
             ],
             [
              0.5555555555555556,
              "#1f9e89"
             ],
             [
              0.6666666666666666,
              "#35b779"
             ],
             [
              0.7777777777777778,
              "#6ece58"
             ],
             [
              0.8888888888888888,
              "#b5de2b"
             ],
             [
              1,
              "#fde725"
             ]
            ],
            "type": "histogram2dcontour"
           }
          ],
          "mesh3d": [
           {
            "colorbar": {
             "outlinewidth": 1,
             "tickcolor": "rgb(36,36,36)",
             "ticks": "outside"
            },
            "type": "mesh3d"
           }
          ],
          "parcoords": [
           {
            "line": {
             "colorbar": {
              "outlinewidth": 1,
              "tickcolor": "rgb(36,36,36)",
              "ticks": "outside"
             }
            },
            "type": "parcoords"
           }
          ],
          "pie": [
           {
            "automargin": true,
            "type": "pie"
           }
          ],
          "scatter": [
           {
            "fillpattern": {
             "fillmode": "overlay",
             "size": 10,
             "solidity": 0.2
            },
            "type": "scatter"
           }
          ],
          "scatter3d": [
           {
            "line": {
             "colorbar": {
              "outlinewidth": 1,
              "tickcolor": "rgb(36,36,36)",
              "ticks": "outside"
             }
            },
            "marker": {
             "colorbar": {
              "outlinewidth": 1,
              "tickcolor": "rgb(36,36,36)",
              "ticks": "outside"
             }
            },
            "type": "scatter3d"
           }
          ],
          "scattercarpet": [
           {
            "marker": {
             "colorbar": {
              "outlinewidth": 1,
              "tickcolor": "rgb(36,36,36)",
              "ticks": "outside"
             }
            },
            "type": "scattercarpet"
           }
          ],
          "scattergeo": [
           {
            "marker": {
             "colorbar": {
              "outlinewidth": 1,
              "tickcolor": "rgb(36,36,36)",
              "ticks": "outside"
             }
            },
            "type": "scattergeo"
           }
          ],
          "scattergl": [
           {
            "marker": {
             "colorbar": {
              "outlinewidth": 1,
              "tickcolor": "rgb(36,36,36)",
              "ticks": "outside"
             }
            },
            "type": "scattergl"
           }
          ],
          "scattermapbox": [
           {
            "marker": {
             "colorbar": {
              "outlinewidth": 1,
              "tickcolor": "rgb(36,36,36)",
              "ticks": "outside"
             }
            },
            "type": "scattermapbox"
           }
          ],
          "scatterpolar": [
           {
            "marker": {
             "colorbar": {
              "outlinewidth": 1,
              "tickcolor": "rgb(36,36,36)",
              "ticks": "outside"
             }
            },
            "type": "scatterpolar"
           }
          ],
          "scatterpolargl": [
           {
            "marker": {
             "colorbar": {
              "outlinewidth": 1,
              "tickcolor": "rgb(36,36,36)",
              "ticks": "outside"
             }
            },
            "type": "scatterpolargl"
           }
          ],
          "scatterternary": [
           {
            "marker": {
             "colorbar": {
              "outlinewidth": 1,
              "tickcolor": "rgb(36,36,36)",
              "ticks": "outside"
             }
            },
            "type": "scatterternary"
           }
          ],
          "surface": [
           {
            "colorbar": {
             "outlinewidth": 1,
             "tickcolor": "rgb(36,36,36)",
             "ticks": "outside"
            },
            "colorscale": [
             [
              0,
              "#440154"
             ],
             [
              0.1111111111111111,
              "#482878"
             ],
             [
              0.2222222222222222,
              "#3e4989"
             ],
             [
              0.3333333333333333,
              "#31688e"
             ],
             [
              0.4444444444444444,
              "#26828e"
             ],
             [
              0.5555555555555556,
              "#1f9e89"
             ],
             [
              0.6666666666666666,
              "#35b779"
             ],
             [
              0.7777777777777778,
              "#6ece58"
             ],
             [
              0.8888888888888888,
              "#b5de2b"
             ],
             [
              1,
              "#fde725"
             ]
            ],
            "type": "surface"
           }
          ],
          "table": [
           {
            "cells": {
             "fill": {
              "color": "rgb(237,237,237)"
             },
             "line": {
              "color": "white"
             }
            },
            "header": {
             "fill": {
              "color": "rgb(217,217,217)"
             },
             "line": {
              "color": "white"
             }
            },
            "type": "table"
           }
          ]
         },
         "layout": {
          "annotationdefaults": {
           "arrowhead": 0,
           "arrowwidth": 1
          },
          "autotypenumbers": "strict",
          "coloraxis": {
           "colorbar": {
            "outlinewidth": 1,
            "tickcolor": "rgb(36,36,36)",
            "ticks": "outside"
           }
          },
          "colorscale": {
           "diverging": [
            [
             0,
             "rgb(103,0,31)"
            ],
            [
             0.1,
             "rgb(178,24,43)"
            ],
            [
             0.2,
             "rgb(214,96,77)"
            ],
            [
             0.3,
             "rgb(244,165,130)"
            ],
            [
             0.4,
             "rgb(253,219,199)"
            ],
            [
             0.5,
             "rgb(247,247,247)"
            ],
            [
             0.6,
             "rgb(209,229,240)"
            ],
            [
             0.7,
             "rgb(146,197,222)"
            ],
            [
             0.8,
             "rgb(67,147,195)"
            ],
            [
             0.9,
             "rgb(33,102,172)"
            ],
            [
             1,
             "rgb(5,48,97)"
            ]
           ],
           "sequential": [
            [
             0,
             "#440154"
            ],
            [
             0.1111111111111111,
             "#482878"
            ],
            [
             0.2222222222222222,
             "#3e4989"
            ],
            [
             0.3333333333333333,
             "#31688e"
            ],
            [
             0.4444444444444444,
             "#26828e"
            ],
            [
             0.5555555555555556,
             "#1f9e89"
            ],
            [
             0.6666666666666666,
             "#35b779"
            ],
            [
             0.7777777777777778,
             "#6ece58"
            ],
            [
             0.8888888888888888,
             "#b5de2b"
            ],
            [
             1,
             "#fde725"
            ]
           ],
           "sequentialminus": [
            [
             0,
             "#440154"
            ],
            [
             0.1111111111111111,
             "#482878"
            ],
            [
             0.2222222222222222,
             "#3e4989"
            ],
            [
             0.3333333333333333,
             "#31688e"
            ],
            [
             0.4444444444444444,
             "#26828e"
            ],
            [
             0.5555555555555556,
             "#1f9e89"
            ],
            [
             0.6666666666666666,
             "#35b779"
            ],
            [
             0.7777777777777778,
             "#6ece58"
            ],
            [
             0.8888888888888888,
             "#b5de2b"
            ],
            [
             1,
             "#fde725"
            ]
           ]
          },
          "colorway": [
           "#1F77B4",
           "#FF7F0E",
           "#2CA02C",
           "#D62728",
           "#9467BD",
           "#8C564B",
           "#E377C2",
           "#7F7F7F",
           "#BCBD22",
           "#17BECF"
          ],
          "font": {
           "color": "black",
           "family": "arial"
          },
          "geo": {
           "bgcolor": "white",
           "lakecolor": "white",
           "landcolor": "white",
           "showlakes": true,
           "showland": true,
           "subunitcolor": "white"
          },
          "hoverlabel": {
           "align": "left"
          },
          "hovermode": "closest",
          "mapbox": {
           "style": "light"
          },
          "paper_bgcolor": "white",
          "plot_bgcolor": "white",
          "polar": {
           "angularaxis": {
            "gridcolor": "rgb(232,232,232)",
            "linecolor": "rgb(36,36,36)",
            "showgrid": false,
            "showline": true,
            "ticks": "outside"
           },
           "bgcolor": "white",
           "radialaxis": {
            "gridcolor": "rgb(232,232,232)",
            "linecolor": "rgb(36,36,36)",
            "showgrid": false,
            "showline": true,
            "ticks": "outside"
           }
          },
          "scene": {
           "xaxis": {
            "backgroundcolor": "white",
            "gridcolor": "rgb(232,232,232)",
            "gridwidth": 2,
            "linecolor": "rgb(36,36,36)",
            "showbackground": true,
            "showgrid": false,
            "showline": true,
            "ticks": "outside",
            "zeroline": false,
            "zerolinecolor": "rgb(36,36,36)"
           },
           "yaxis": {
            "backgroundcolor": "white",
            "gridcolor": "rgb(232,232,232)",
            "gridwidth": 2,
            "linecolor": "rgb(36,36,36)",
            "showbackground": true,
            "showgrid": false,
            "showline": true,
            "ticks": "outside",
            "zeroline": false,
            "zerolinecolor": "rgb(36,36,36)"
           },
           "zaxis": {
            "backgroundcolor": "white",
            "gridcolor": "rgb(232,232,232)",
            "gridwidth": 2,
            "linecolor": "rgb(36,36,36)",
            "showbackground": true,
            "showgrid": false,
            "showline": true,
            "ticks": "outside",
            "zeroline": false,
            "zerolinecolor": "rgb(36,36,36)"
           }
          },
          "shapedefaults": {
           "line": {
            "color": "black",
            "width": 1
           },
           "opacity": 1
          },
          "ternary": {
           "aaxis": {
            "gridcolor": "rgb(232,232,232)",
            "linecolor": "rgb(36,36,36)",
            "showgrid": false,
            "showline": true,
            "ticks": "outside"
           },
           "baxis": {
            "gridcolor": "rgb(232,232,232)",
            "linecolor": "rgb(36,36,36)",
            "showgrid": false,
            "showline": true,
            "ticks": "outside"
           },
           "bgcolor": "white",
           "caxis": {
            "gridcolor": "rgb(232,232,232)",
            "linecolor": "rgb(36,36,36)",
            "showgrid": false,
            "showline": true,
            "ticks": "outside"
           }
          },
          "title": {
           "x": 0.05
          },
          "xaxis": {
           "automargin": true,
           "gridcolor": "rgb(232,232,232)",
           "linecolor": "rgb(36,36,36)",
           "mirror": true,
           "showgrid": true,
           "showline": true,
           "ticks": "outside",
           "title": {
            "standoff": 5
           },
           "zeroline": false,
           "zerolinecolor": "rgb(36,36,36)"
          },
          "yaxis": {
           "automargin": true,
           "gridcolor": "rgb(232,232,232)",
           "linecolor": "rgb(36,36,36)",
           "mirror": true,
           "showgrid": true,
           "showline": true,
           "ticks": "outside",
           "title": {
            "standoff": 5
           },
           "zeroline": false,
           "zerolinecolor": "rgb(36,36,36)"
          }
         }
        },
        "title": {
         "text": "<b>Confidence interval and cost factor</b><br><i>Fixed Links (bridges and tunnel)</i>"
        },
        "width": 800,
        "xaxis": {
         "anchor": "y",
         "domain": [
          0,
          1
         ],
         "title": {
          "text": "Confidence Interval"
         }
        },
        "yaxis": {
         "anchor": "x",
         "domain": [
          0,
          1
         ],
         "title": {
          "text": "Cost Factor"
         }
        }
       }
      }
     },
     "metadata": {},
     "output_type": "display_data"
    }
   ],
   "source": [
    "# Calculate the distribution expected value and 95% confidence interval\n",
    "expected_value = stats.gamma(*stats.gamma.fit(random_variables)).expect()\n",
    "\n",
    "# Define the range of confidence intervals to use\n",
    "ci_range = np.linspace(0.5, 0.99)\n",
    "\n",
    "# Calculate the confidence intervals using the `gamma.fit` method and the same\n",
    "# `random_varialbes` used previously\n",
    "ci_vals = [\n",
    "    (i, *stats.gamma(*stats.gamma.fit(random_variables)).interval(i)) for i in ci_range\n",
    "]\n",
    "\n",
    "# Make a `dataframe` and add the expected value column for plotting\n",
    "df = pd.DataFrame(ci_vals, columns=[\"CI\", \"Lower\", \"Upper\"])\n",
    "df[\"Expected Value\"] = expected_value\n",
    "\n",
    "# Plot the figure\n",
    "fig = (\n",
    "    px.line(df, x=\"CI\", y=[\"Lower\", \"Upper\", \"Expected Value\"])\n",
    "    .update(\n",
    "        layout=dict(\n",
    "            title=\"<b>Confidence interval and cost factor</b><br><i>Fixed Links (bridges and tunnel)</i>\",\n",
    "            height=500,\n",
    "            width=800,\n",
    "            margin=dict(t=60, b=20, l=20, r=20),\n",
    "            legend=dict(title=\"Bound\", yanchor=\"top\", y=0.99, xanchor=\"left\", x=0.01),\n",
    "            xaxis=dict(title=\"Confidence Interval\"),\n",
    "            yaxis=dict(title=\"Cost Factor\"),\n",
    "        )\n",
    "    )\n",
    "    .add_annotation(\n",
    "        text=f\"<b>Expected Value = {round(expected_value, 2)}</b>\",\n",
    "        showarrow=False,\n",
    "        xref=\"paper\",\n",
    "        x=0.75,\n",
    "        yref=\"paper\",\n",
    "        y=0.25,\n",
    "    )\n",
    ")\n",
    "\n",
    "fig.write_image(\"probability-distribution-of-tunnel-cost-overruns-confidence.svg\")\n",
    "fig.show()"
   ]
  },
  {
   "cell_type": "code",
   "execution_count": null,
   "metadata": {},
   "outputs": [],
   "source": []
  }
 ],
 "metadata": {
  "kernelspec": {
   "display_name": "base",
   "language": "python",
   "name": "python3"
  },
  "language_info": {
   "codemirror_mode": {
    "name": "ipython",
    "version": 3
   },
   "file_extension": ".py",
   "mimetype": "text/x-python",
   "name": "python",
   "nbconvert_exporter": "python",
   "pygments_lexer": "ipython3",
   "version": "3.12.0"
  }
 },
 "nbformat": 4,
 "nbformat_minor": 2
}
