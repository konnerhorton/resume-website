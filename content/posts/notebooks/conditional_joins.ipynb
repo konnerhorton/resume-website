{
 "cells": [
  {
   "cell_type": "code",
   "execution_count": 25,
   "metadata": {},
   "outputs": [
    {
     "data": {
      "text/plain": [
       "array(['Undefined', 'ASPHALT', 'TTC-G4', 'FILL', 'TTC-G3N', 'TTC-G5',\n",
       "       'TOPSOIL', 'TTC-G2', 'TTC-G6', 'TTC-G1', 'TTC-G3C', 'ALLUVIUM',\n",
       "       'CONCRETE', 'TTC-G7'], dtype=object)"
      ]
     },
     "execution_count": 25,
     "metadata": {},
     "output_type": "execute_result"
    }
   ],
   "source": [
    "import pandas as pd\n",
    "\n",
    "# from pandasql import sqldf\n",
    "\n",
    "# pysqldf = lambda q: sqldf(q, globals())\n",
    "\n",
    "\n",
    "# sqldf(\n",
    "#     \"\"\"SELECT *\n",
    "#         from test_data\n",
    "#         left join geology\n",
    "#         on test_data.[BoreholID] = geology.[BoreholID]\n",
    "#         and test_data.[Depth] >= geology.[Depth Top]\n",
    "#         and test_data.[Depth] < geology.[Depth Base];\"\"\",\n",
    "#     locals(),\n",
    "# )\n",
    "\n",
    "test_data = pd.read_csv(\n",
    "    \"C:\\\\Users\\\\khorton\\\\OneDrive - Aldea Services, LLC\\\\1-AREAS\\\\1446.0P - Scarborough Subway Extension\\\\OpenGround Analyses\\\\data\\\\openground\\\\Density Tests.csv\"\n",
    ")[[\"Depth Top\", \"Location ID\", \"Bulk Density\"]].rename(\n",
    "    columns={\n",
    "        \"Depth Top\": \"Depth\",\n",
    "        \"Location ID\": \"BoreholeID\",\n",
    "        \"Bulk Density\": \"BulkDensity\",\n",
    "    }\n",
    ")\n",
    "geology = pd.read_csv(\n",
    "    \"C:\\\\Users\\\\khorton\\\\OneDrive - Aldea Services, LLC\\\\1-AREAS\\\\1446.0P - Scarborough Subway Extension\\\\OpenGround Analyses\\\\data\\\\openground\\\\Field Geological Descriptions.csv\"\n",
    ")[[\"Location ID\", \"Geology Code\", \"Depth Top\", \"Depth Base\"]].rename(\n",
    "    columns={\n",
    "        \"Location ID\": \"BoreholeID\",\n",
    "        \"Geology Code\": \"GeologyID\",\n",
    "        \"Depth Top\": \"DepthTop\",\n",
    "        \"Depth Base\": \"DepthBase\",\n",
    "    }\n",
    ")\n",
    "\n",
    "geology = geology.loc[geology[\"BoreholeID\"].isin(test_data[\"BoreholeID\"].unique())]\n",
    "\n",
    "test_data_names = list(test_data[\"BoreholeID\"].unique())\n",
    "\n",
    "bh_map = {n: f\"BH-{test_data_names.index(n)+1:03d}\" for n in test_data_names}\n",
    "test_data[\"BoreholeID\"] = test_data[\"BoreholeID\"].map(bh_map)\n",
    "geology[\"BoreholeID\"] = geology[\"BoreholeID\"].map(bh_map)\n",
    "\n",
    "geology[\"GeologyID\"].unique()"
   ]
  }
 ],
 "metadata": {
  "kernelspec": {
   "display_name": "myenv",
   "language": "python",
   "name": "python3"
  },
  "language_info": {
   "codemirror_mode": {
    "name": "ipython",
    "version": 3
   },
   "file_extension": ".py",
   "mimetype": "text/x-python",
   "name": "python",
   "nbconvert_exporter": "python",
   "pygments_lexer": "ipython3",
   "version": "3.11.5"
  }
 },
 "nbformat": 4,
 "nbformat_minor": 2
}
