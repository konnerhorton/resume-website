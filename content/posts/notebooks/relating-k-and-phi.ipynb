{
 "cells": [
  {
   "cell_type": "code",
   "execution_count": 3,
   "metadata": {},
   "outputs": [],
   "source": [
    "# Import third party libraries\n",
    "import pandas as pd\n",
    "import numpy as np\n",
    "import plotly.graph_objects as go\n",
    "\n",
    "\n",
    "# Write functions to represent equations\n",
    "def get_k0nc_jacky(phi: float) -> float:\n",
    "    return 1 - np.sin(np.deg2rad(phi))\n",
    "\n",
    "\n",
    "def get_k0oc_wroth(phi: float, OCR: float, v: float) -> float:\n",
    "    return OCR * (get_k0nc_jacky(phi)) - (v * (OCR - 1)) / (1 - v)\n",
    "\n",
    "\n",
    "def get_k0oc_mayne(phi: float, OCR: float) -> float:\n",
    "    return (1 - np.sin(np.deg2rad(phi))) * OCR ^ (np.sin(np.deg2rad(phi)))\n",
    "\n",
    "\n",
    "# Define range of values for phi and OCR\n",
    "phi = np.linspace(0, 45)  # Creates a array of 100 values from 0 to 45\n",
    "OCR = np.linspace(0, 5.5)  # Creates a array of 100 values from 0 to 5.5\n",
    "\n",
    "# Define poisson's ratio to be used in `get_k0oc_wroth()`\n",
    "v = 0.25\n",
    "\n",
    "# Vectorize equations so that they can be used to create a numpy 2D array\n",
    "vec_get_k0oc_wroth = np.vectorize(pyfunc=get_k0oc_wroth)\n",
    "vec_get_k0oc_mayne = np.vectorize(pyfunc=get_k0oc_mayne)\n",
    "\n",
    "# Create 2D arrays from the equations\n",
    "k0oc_wroth = vec_get_k0oc_wroth(phi=phi, OCR=OCR, v=v)"
   ]
  }
 ],
 "metadata": {
  "kernelspec": {
   "display_name": "myenv",
   "language": "python",
   "name": "python3"
  },
  "language_info": {
   "codemirror_mode": {
    "name": "ipython",
    "version": 3
   },
   "file_extension": ".py",
   "mimetype": "text/x-python",
   "name": "python",
   "nbconvert_exporter": "python",
   "pygments_lexer": "ipython3",
   "version": "3.11.5"
  }
 },
 "nbformat": 4,
 "nbformat_minor": 2
}
